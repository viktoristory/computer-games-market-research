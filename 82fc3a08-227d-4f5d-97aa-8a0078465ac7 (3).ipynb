{
 "cells": [
  
  {
   "cell_type": "markdown",
   "metadata": {},
   "source": [
    "### Откройте файл с данными и изучите общую информацию"
   ]
  },
  
  {
   "cell_type": "markdown",
   "metadata": {},
   "source": [
    "<div class=\"alert alert-block alert-info\">\n",
    "<b>✔</b> \n",
    "</div>"
   ]
  },
  {
   "cell_type": "markdown",
   "metadata": {},
   "source": [
    "Из открытых источников доступны исторические данные о продажах игр, оценки пользователей и экспертов, жанры и платформы (например, Xbox или PlayStation). Необходимо выявить определяющие успешность игры закономерности. Это позволит сделать ставку на потенциально популярный продукт и спланировать рекламные кампании."
   ]
  },
  {
   "cell_type": "code",
   "execution_count": 105,
   "metadata": {},
   "outputs": [
    {
     "data": {
      "text/html": [
       "<div>\n",
       "<style scoped>\n",
       "    .dataframe tbody tr th:only-of-type {\n",
       "        vertical-align: middle;\n",
       "    }\n",
       "\n",
       "    .dataframe tbody tr th {\n",
       "        vertical-align: top;\n",
       "    }\n",
       "\n",
       "    .dataframe thead th {\n",
       "        text-align: right;\n",
       "    }\n",
       "</style>\n",
       "<table border=\"1\" class=\"dataframe\">\n",
       "  <thead>\n",
       "    <tr style=\"text-align: right;\">\n",
       "      <th></th>\n",
       "      <th>Name</th>\n",
       "      <th>Platform</th>\n",
       "      <th>Year_of_Release</th>\n",
       "      <th>Genre</th>\n",
       "      <th>NA_sales</th>\n",
       "      <th>EU_sales</th>\n",
       "      <th>JP_sales</th>\n",
       "      <th>Other_sales</th>\n",
       "      <th>Critic_Score</th>\n",
       "      <th>User_Score</th>\n",
       "      <th>Rating</th>\n",
       "    </tr>\n",
       "  </thead>\n",
       "  <tbody>\n",
       "    <tr>\n",
       "      <th>0</th>\n",
       "      <td>Wii Sports</td>\n",
       "      <td>Wii</td>\n",
       "      <td>2006.0</td>\n",
       "      <td>Sports</td>\n",
       "      <td>41.36</td>\n",
       "      <td>28.96</td>\n",
       "      <td>3.77</td>\n",
       "      <td>8.45</td>\n",
       "      <td>76.0</td>\n",
       "      <td>8</td>\n",
       "      <td>E</td>\n",
       "    </tr>\n",
       "    <tr>\n",
       "      <th>1</th>\n",
       "      <td>Super Mario Bros.</td>\n",
       "      <td>NES</td>\n",
       "      <td>1985.0</td>\n",
       "      <td>Platform</td>\n",
       "      <td>29.08</td>\n",
       "      <td>3.58</td>\n",
       "      <td>6.81</td>\n",
       "      <td>0.77</td>\n",
       "      <td>NaN</td>\n",
       "      <td>NaN</td>\n",
       "      <td>NaN</td>\n",
       "    </tr>\n",
       "    <tr>\n",
       "      <th>2</th>\n",
       "      <td>Mario Kart Wii</td>\n",
       "      <td>Wii</td>\n",
       "      <td>2008.0</td>\n",
       "      <td>Racing</td>\n",
       "      <td>15.68</td>\n",
       "      <td>12.76</td>\n",
       "      <td>3.79</td>\n",
       "      <td>3.29</td>\n",
       "      <td>82.0</td>\n",
       "      <td>8.3</td>\n",
       "      <td>E</td>\n",
       "    </tr>\n",
       "    <tr>\n",
       "      <th>3</th>\n",
       "      <td>Wii Sports Resort</td>\n",
       "      <td>Wii</td>\n",
       "      <td>2009.0</td>\n",
       "      <td>Sports</td>\n",
       "      <td>15.61</td>\n",
       "      <td>10.93</td>\n",
       "      <td>3.28</td>\n",
       "      <td>2.95</td>\n",
       "      <td>80.0</td>\n",
       "      <td>8</td>\n",
       "      <td>E</td>\n",
       "    </tr>\n",
       "    <tr>\n",
       "      <th>4</th>\n",
       "      <td>Pokemon Red/Pokemon Blue</td>\n",
       "      <td>GB</td>\n",
       "      <td>1996.0</td>\n",
       "      <td>Role-Playing</td>\n",
       "      <td>11.27</td>\n",
       "      <td>8.89</td>\n",
       "      <td>10.22</td>\n",
       "      <td>1.00</td>\n",
       "      <td>NaN</td>\n",
       "      <td>NaN</td>\n",
       "      <td>NaN</td>\n",
       "    </tr>\n",
       "    <tr>\n",
       "      <th>...</th>\n",
       "      <td>...</td>\n",
       "      <td>...</td>\n",
       "      <td>...</td>\n",
       "      <td>...</td>\n",
       "      <td>...</td>\n",
       "      <td>...</td>\n",
       "      <td>...</td>\n",
       "      <td>...</td>\n",
       "      <td>...</td>\n",
       "      <td>...</td>\n",
       "      <td>...</td>\n",
       "    </tr>\n",
       "    <tr>\n",
       "      <th>16710</th>\n",
       "      <td>Samurai Warriors: Sanada Maru</td>\n",
       "      <td>PS3</td>\n",
       "      <td>2016.0</td>\n",
       "      <td>Action</td>\n",
       "      <td>0.00</td>\n",
       "      <td>0.00</td>\n",
       "      <td>0.01</td>\n",
       "      <td>0.00</td>\n",
       "      <td>NaN</td>\n",
       "      <td>NaN</td>\n",
       "      <td>NaN</td>\n",
       "    </tr>\n",
       "    <tr>\n",
       "      <th>16711</th>\n",
       "      <td>LMA Manager 2007</td>\n",
       "      <td>X360</td>\n",
       "      <td>2006.0</td>\n",
       "      <td>Sports</td>\n",
       "      <td>0.00</td>\n",
       "      <td>0.01</td>\n",
       "      <td>0.00</td>\n",
       "      <td>0.00</td>\n",
       "      <td>NaN</td>\n",
       "      <td>NaN</td>\n",
       "      <td>NaN</td>\n",
       "    </tr>\n",
       "    <tr>\n",
       "      <th>16712</th>\n",
       "      <td>Haitaka no Psychedelica</td>\n",
       "      <td>PSV</td>\n",
       "      <td>2016.0</td>\n",
       "      <td>Adventure</td>\n",
       "      <td>0.00</td>\n",
       "      <td>0.00</td>\n",
       "      <td>0.01</td>\n",
       "      <td>0.00</td>\n",
       "      <td>NaN</td>\n",
       "      <td>NaN</td>\n",
       "      <td>NaN</td>\n",
       "    </tr>\n",
       "    <tr>\n",
       "      <th>16713</th>\n",
       "      <td>Spirits &amp; Spells</td>\n",
       "      <td>GBA</td>\n",
       "      <td>2003.0</td>\n",
       "      <td>Platform</td>\n",
       "      <td>0.01</td>\n",
       "      <td>0.00</td>\n",
       "      <td>0.00</td>\n",
       "      <td>0.00</td>\n",
       "      <td>NaN</td>\n",
       "      <td>NaN</td>\n",
       "      <td>NaN</td>\n",
       "    </tr>\n",
       "    <tr>\n",
       "      <th>16714</th>\n",
       "      <td>Winning Post 8 2016</td>\n",
       "      <td>PSV</td>\n",
       "      <td>2016.0</td>\n",
       "      <td>Simulation</td>\n",
       "      <td>0.00</td>\n",
       "      <td>0.00</td>\n",
       "      <td>0.01</td>\n",
       "      <td>0.00</td>\n",
       "      <td>NaN</td>\n",
       "      <td>NaN</td>\n",
       "      <td>NaN</td>\n",
       "    </tr>\n",
       "  </tbody>\n",
       "</table>\n",
       "<p>16715 rows × 11 columns</p>\n",
       "</div>"
      ],
      "text/plain": [
       "                                Name Platform  Year_of_Release         Genre  \\\n",
       "0                         Wii Sports      Wii           2006.0        Sports   \n",
       "1                  Super Mario Bros.      NES           1985.0      Platform   \n",
       "2                     Mario Kart Wii      Wii           2008.0        Racing   \n",
       "3                  Wii Sports Resort      Wii           2009.0        Sports   \n",
       "4           Pokemon Red/Pokemon Blue       GB           1996.0  Role-Playing   \n",
       "...                              ...      ...              ...           ...   \n",
       "16710  Samurai Warriors: Sanada Maru      PS3           2016.0        Action   \n",
       "16711               LMA Manager 2007     X360           2006.0        Sports   \n",
       "16712        Haitaka no Psychedelica      PSV           2016.0     Adventure   \n",
       "16713               Spirits & Spells      GBA           2003.0      Platform   \n",
       "16714            Winning Post 8 2016      PSV           2016.0    Simulation   \n",
       "\n",
       "       NA_sales  EU_sales  JP_sales  Other_sales  Critic_Score User_Score  \\\n",
       "0         41.36     28.96      3.77         8.45          76.0          8   \n",
       "1         29.08      3.58      6.81         0.77           NaN        NaN   \n",
       "2         15.68     12.76      3.79         3.29          82.0        8.3   \n",
       "3         15.61     10.93      3.28         2.95          80.0          8   \n",
       "4         11.27      8.89     10.22         1.00           NaN        NaN   \n",
       "...         ...       ...       ...          ...           ...        ...   \n",
       "16710      0.00      0.00      0.01         0.00           NaN        NaN   \n",
       "16711      0.00      0.01      0.00         0.00           NaN        NaN   \n",
       "16712      0.00      0.00      0.01         0.00           NaN        NaN   \n",
       "16713      0.01      0.00      0.00         0.00           NaN        NaN   \n",
       "16714      0.00      0.00      0.01         0.00           NaN        NaN   \n",
       "\n",
       "      Rating  \n",
       "0          E  \n",
       "1        NaN  \n",
       "2          E  \n",
       "3          E  \n",
       "4        NaN  \n",
       "...      ...  \n",
       "16710    NaN  \n",
       "16711    NaN  \n",
       "16712    NaN  \n",
       "16713    NaN  \n",
       "16714    NaN  \n",
       "\n",
       "[16715 rows x 11 columns]"
      ]
     },
     "execution_count": 105,
     "metadata": {},
     "output_type": "execute_result"
    }
   ],
   "source": [
    "import pandas as pd\n",
    "import seaborn as sns\n",
    "import numpy as np\n",
    "from scipy import stats as st\n",
    "import matplotlib.pyplot as plt\n",
    "\n",
    "data = pd.read_csv('/datasets/games.csv')\n",
    "data"
   ]
  },
  {
   "cell_type": "markdown",
   "metadata": {},
   "source": [
    "Изучим информацию о данных:"
   ]
  },
  {
   "cell_type": "code",
   "execution_count": 2,
   "metadata": {},
   "outputs": [
    {
     "name": "stdout",
     "output_type": "stream",
     "text": [
      "<class 'pandas.core.frame.DataFrame'>\n",
      "RangeIndex: 16715 entries, 0 to 16714\n",
      "Data columns (total 11 columns):\n",
      " #   Column           Non-Null Count  Dtype  \n",
      "---  ------           --------------  -----  \n",
      " 0   Name             16713 non-null  object \n",
      " 1   Platform         16715 non-null  object \n",
      " 2   Year_of_Release  16446 non-null  float64\n",
      " 3   Genre            16713 non-null  object \n",
      " 4   NA_sales         16715 non-null  float64\n",
      " 5   EU_sales         16715 non-null  float64\n",
      " 6   JP_sales         16715 non-null  float64\n",
      " 7   Other_sales      16715 non-null  float64\n",
      " 8   Critic_Score     8137 non-null   float64\n",
      " 9   User_Score       10014 non-null  object \n",
      " 10  Rating           9949 non-null   object \n",
      "dtypes: float64(6), object(5)\n",
      "memory usage: 1.4+ MB\n"
     ]
    }
   ],
   "source": [
    "data.info()"
   ]
  },
  {
   "cell_type": "markdown",
   "metadata": {},
   "source": [
    "### Подготовьте данные"
   ]
  },
  {
   "cell_type": "markdown",
   "metadata": {},
   "source": [
    "Видим, что в названиях столбцов встречаются буквы в верхнем и нижнем регистре. Сделаем все в нижнем для удобства:"
   ]
  },
  {
   "cell_type": "code",
   "execution_count": 3,
   "metadata": {},
   "outputs": [
    {
     "data": {
      "text/html": [
       "<div>\n",
       "<style scoped>\n",
       "    .dataframe tbody tr th:only-of-type {\n",
       "        vertical-align: middle;\n",
       "    }\n",
       "\n",
       "    .dataframe tbody tr th {\n",
       "        vertical-align: top;\n",
       "    }\n",
       "\n",
       "    .dataframe thead th {\n",
       "        text-align: right;\n",
       "    }\n",
       "</style>\n",
       "<table border=\"1\" class=\"dataframe\">\n",
       "  <thead>\n",
       "    <tr style=\"text-align: right;\">\n",
       "      <th></th>\n",
       "      <th>name</th>\n",
       "      <th>platform</th>\n",
       "      <th>year_of_release</th>\n",
       "      <th>genre</th>\n",
       "      <th>na_sales</th>\n",
       "      <th>eu_sales</th>\n",
       "      <th>jp_sales</th>\n",
       "      <th>other_sales</th>\n",
       "      <th>critic_score</th>\n",
       "      <th>user_score</th>\n",
       "      <th>rating</th>\n",
       "    </tr>\n",
       "  </thead>\n",
       "  <tbody>\n",
       "    <tr>\n",
       "      <th>0</th>\n",
       "      <td>Wii Sports</td>\n",
       "      <td>Wii</td>\n",
       "      <td>2006.0</td>\n",
       "      <td>Sports</td>\n",
       "      <td>41.36</td>\n",
       "      <td>28.96</td>\n",
       "      <td>3.77</td>\n",
       "      <td>8.45</td>\n",
       "      <td>76.0</td>\n",
       "      <td>8</td>\n",
       "      <td>E</td>\n",
       "    </tr>\n",
       "    <tr>\n",
       "      <th>1</th>\n",
       "      <td>Super Mario Bros.</td>\n",
       "      <td>NES</td>\n",
       "      <td>1985.0</td>\n",
       "      <td>Platform</td>\n",
       "      <td>29.08</td>\n",
       "      <td>3.58</td>\n",
       "      <td>6.81</td>\n",
       "      <td>0.77</td>\n",
       "      <td>NaN</td>\n",
       "      <td>NaN</td>\n",
       "      <td>NaN</td>\n",
       "    </tr>\n",
       "    <tr>\n",
       "      <th>2</th>\n",
       "      <td>Mario Kart Wii</td>\n",
       "      <td>Wii</td>\n",
       "      <td>2008.0</td>\n",
       "      <td>Racing</td>\n",
       "      <td>15.68</td>\n",
       "      <td>12.76</td>\n",
       "      <td>3.79</td>\n",
       "      <td>3.29</td>\n",
       "      <td>82.0</td>\n",
       "      <td>8.3</td>\n",
       "      <td>E</td>\n",
       "    </tr>\n",
       "    <tr>\n",
       "      <th>3</th>\n",
       "      <td>Wii Sports Resort</td>\n",
       "      <td>Wii</td>\n",
       "      <td>2009.0</td>\n",
       "      <td>Sports</td>\n",
       "      <td>15.61</td>\n",
       "      <td>10.93</td>\n",
       "      <td>3.28</td>\n",
       "      <td>2.95</td>\n",
       "      <td>80.0</td>\n",
       "      <td>8</td>\n",
       "      <td>E</td>\n",
       "    </tr>\n",
       "    <tr>\n",
       "      <th>4</th>\n",
       "      <td>Pokemon Red/Pokemon Blue</td>\n",
       "      <td>GB</td>\n",
       "      <td>1996.0</td>\n",
       "      <td>Role-Playing</td>\n",
       "      <td>11.27</td>\n",
       "      <td>8.89</td>\n",
       "      <td>10.22</td>\n",
       "      <td>1.00</td>\n",
       "      <td>NaN</td>\n",
       "      <td>NaN</td>\n",
       "      <td>NaN</td>\n",
       "    </tr>\n",
       "    <tr>\n",
       "      <th>...</th>\n",
       "      <td>...</td>\n",
       "      <td>...</td>\n",
       "      <td>...</td>\n",
       "      <td>...</td>\n",
       "      <td>...</td>\n",
       "      <td>...</td>\n",
       "      <td>...</td>\n",
       "      <td>...</td>\n",
       "      <td>...</td>\n",
       "      <td>...</td>\n",
       "      <td>...</td>\n",
       "    </tr>\n",
       "    <tr>\n",
       "      <th>16710</th>\n",
       "      <td>Samurai Warriors: Sanada Maru</td>\n",
       "      <td>PS3</td>\n",
       "      <td>2016.0</td>\n",
       "      <td>Action</td>\n",
       "      <td>0.00</td>\n",
       "      <td>0.00</td>\n",
       "      <td>0.01</td>\n",
       "      <td>0.00</td>\n",
       "      <td>NaN</td>\n",
       "      <td>NaN</td>\n",
       "      <td>NaN</td>\n",
       "    </tr>\n",
       "    <tr>\n",
       "      <th>16711</th>\n",
       "      <td>LMA Manager 2007</td>\n",
       "      <td>X360</td>\n",
       "      <td>2006.0</td>\n",
       "      <td>Sports</td>\n",
       "      <td>0.00</td>\n",
       "      <td>0.01</td>\n",
       "      <td>0.00</td>\n",
       "      <td>0.00</td>\n",
       "      <td>NaN</td>\n",
       "      <td>NaN</td>\n",
       "      <td>NaN</td>\n",
       "    </tr>\n",
       "    <tr>\n",
       "      <th>16712</th>\n",
       "      <td>Haitaka no Psychedelica</td>\n",
       "      <td>PSV</td>\n",
       "      <td>2016.0</td>\n",
       "      <td>Adventure</td>\n",
       "      <td>0.00</td>\n",
       "      <td>0.00</td>\n",
       "      <td>0.01</td>\n",
       "      <td>0.00</td>\n",
       "      <td>NaN</td>\n",
       "      <td>NaN</td>\n",
       "      <td>NaN</td>\n",
       "    </tr>\n",
       "    <tr>\n",
       "      <th>16713</th>\n",
       "      <td>Spirits &amp; Spells</td>\n",
       "      <td>GBA</td>\n",
       "      <td>2003.0</td>\n",
       "      <td>Platform</td>\n",
       "      <td>0.01</td>\n",
       "      <td>0.00</td>\n",
       "      <td>0.00</td>\n",
       "      <td>0.00</td>\n",
       "      <td>NaN</td>\n",
       "      <td>NaN</td>\n",
       "      <td>NaN</td>\n",
       "    </tr>\n",
       "    <tr>\n",
       "      <th>16714</th>\n",
       "      <td>Winning Post 8 2016</td>\n",
       "      <td>PSV</td>\n",
       "      <td>2016.0</td>\n",
       "      <td>Simulation</td>\n",
       "      <td>0.00</td>\n",
       "      <td>0.00</td>\n",
       "      <td>0.01</td>\n",
       "      <td>0.00</td>\n",
       "      <td>NaN</td>\n",
       "      <td>NaN</td>\n",
       "      <td>NaN</td>\n",
       "    </tr>\n",
       "  </tbody>\n",
       "</table>\n",
       "<p>16715 rows × 11 columns</p>\n",
       "</div>"
      ],
      "text/plain": [
       "                                name platform  year_of_release         genre  \\\n",
       "0                         Wii Sports      Wii           2006.0        Sports   \n",
       "1                  Super Mario Bros.      NES           1985.0      Platform   \n",
       "2                     Mario Kart Wii      Wii           2008.0        Racing   \n",
       "3                  Wii Sports Resort      Wii           2009.0        Sports   \n",
       "4           Pokemon Red/Pokemon Blue       GB           1996.0  Role-Playing   \n",
       "...                              ...      ...              ...           ...   \n",
       "16710  Samurai Warriors: Sanada Maru      PS3           2016.0        Action   \n",
       "16711               LMA Manager 2007     X360           2006.0        Sports   \n",
       "16712        Haitaka no Psychedelica      PSV           2016.0     Adventure   \n",
       "16713               Spirits & Spells      GBA           2003.0      Platform   \n",
       "16714            Winning Post 8 2016      PSV           2016.0    Simulation   \n",
       "\n",
       "       na_sales  eu_sales  jp_sales  other_sales  critic_score user_score  \\\n",
       "0         41.36     28.96      3.77         8.45          76.0          8   \n",
       "1         29.08      3.58      6.81         0.77           NaN        NaN   \n",
       "2         15.68     12.76      3.79         3.29          82.0        8.3   \n",
       "3         15.61     10.93      3.28         2.95          80.0          8   \n",
       "4         11.27      8.89     10.22         1.00           NaN        NaN   \n",
       "...         ...       ...       ...          ...           ...        ...   \n",
       "16710      0.00      0.00      0.01         0.00           NaN        NaN   \n",
       "16711      0.00      0.01      0.00         0.00           NaN        NaN   \n",
       "16712      0.00      0.00      0.01         0.00           NaN        NaN   \n",
       "16713      0.01      0.00      0.00         0.00           NaN        NaN   \n",
       "16714      0.00      0.00      0.01         0.00           NaN        NaN   \n",
       "\n",
       "      rating  \n",
       "0          E  \n",
       "1        NaN  \n",
       "2          E  \n",
       "3          E  \n",
       "4        NaN  \n",
       "...      ...  \n",
       "16710    NaN  \n",
       "16711    NaN  \n",
       "16712    NaN  \n",
       "16713    NaN  \n",
       "16714    NaN  \n",
       "\n",
       "[16715 rows x 11 columns]"
      ]
     },
     "execution_count": 3,
     "metadata": {},
     "output_type": "execute_result"
    }
   ],
   "source": [
    "data.columns = data.columns.str.lower()\n",
    "data"
   ]
  },
  {
   "cell_type": "markdown",
   "metadata": {},
   "source": [
    "Проверим строки на явные дубликаты:"
   ]
  },
  {
   "cell_type": "code",
   "execution_count": 4,
   "metadata": {},
   "outputs": [
    {
     "data": {
      "text/plain": [
       "0"
      ]
     },
     "execution_count": 4,
     "metadata": {},
     "output_type": "execute_result"
    }
   ],
   "source": [
    "data.duplicated().sum()"
   ]
  },
  {
   "cell_type": "markdown",
   "metadata": {},
   "source": [
    "Проверим данные на отсутствующие значения:"
   ]
  },
  {
   "cell_type": "code",
   "execution_count": 5,
   "metadata": {},
   "outputs": [
    {
     "data": {
      "text/plain": [
       "name                  2\n",
       "platform              0\n",
       "year_of_release     269\n",
       "genre                 2\n",
       "na_sales              0\n",
       "eu_sales              0\n",
       "jp_sales              0\n",
       "other_sales           0\n",
       "critic_score       8578\n",
       "user_score         6701\n",
       "rating             6766\n",
       "dtype: int64"
      ]
     },
     "execution_count": 5,
     "metadata": {},
     "output_type": "execute_result"
    }
   ],
   "source": [
    "data.isna().sum()"
   ]
  },
  {
   "cell_type": "markdown",
   "metadata": {},
   "source": [
    "Посмотрим в процентах на отсутствующие значения:"
   ]
  },
  {
   "cell_type": "code",
   "execution_count": 6,
   "metadata": {},
   "outputs": [
    {
     "data": {
      "text/plain": [
       "critic_score       51.319174\n",
       "rating             40.478612\n",
       "user_score         40.089740\n",
       "year_of_release     1.609333\n",
       "name                0.011965\n",
       "genre               0.011965\n",
       "platform            0.000000\n",
       "na_sales            0.000000\n",
       "eu_sales            0.000000\n",
       "jp_sales            0.000000\n",
       "other_sales         0.000000\n",
       "dtype: float64"
      ]
     },
     "execution_count": 6,
     "metadata": {},
     "output_type": "execute_result"
    }
   ],
   "source": [
    "data.isnull().sum().sort_values(ascending = False) / data.shape[0] * 100"
   ]
  },
  {
   "cell_type": "markdown",
   "metadata": {},
   "source": [
    "Видим, что в столбце с названием игры и жанром есть два отсутствующих значения. Думаю, их надо удалить, потому что без названия игры нам эти данные бесполезны. Пропуски с годом релиза занимают всего 1,6% - их тоже можем удалить."
   ]
  },
  {
   "cell_type": "code",
   "execution_count": 7,
   "metadata": {},
   "outputs": [],
   "source": [
    "data = data.dropna(subset=['name', 'genre', 'year_of_release'])"
   ]
  },
  
  {
   "cell_type": "code",
   "execution_count": 8,
   "metadata": {},
   "outputs": [
    {
     "data": {
      "text/plain": [
       "name                  0\n",
       "platform              0\n",
       "year_of_release       0\n",
       "genre                 0\n",
       "na_sales              0\n",
       "eu_sales              0\n",
       "jp_sales              0\n",
       "other_sales           0\n",
       "critic_score       8461\n",
       "user_score         6605\n",
       "rating             6676\n",
       "dtype: int64"
      ]
     },
     "execution_count": 8,
     "metadata": {},
     "output_type": "execute_result"
    }
   ],
   "source": [
    "data.isna().sum()"
   ]
  },
  {
   "cell_type": "markdown",
   "metadata": {},
   "source": [
    "Проверим, пересекаются ли как-то пропущенные значения в оставшихся трех колонках:"
   ]
  },
  {
   "cell_type": "code",
   "execution_count": 9,
   "metadata": {},
   "outputs": [
    {
     "data": {
      "text/html": [
       "<div>\n",
       "<style scoped>\n",
       "    .dataframe tbody tr th:only-of-type {\n",
       "        vertical-align: middle;\n",
       "    }\n",
       "\n",
       "    .dataframe tbody tr th {\n",
       "        vertical-align: top;\n",
       "    }\n",
       "\n",
       "    .dataframe thead th {\n",
       "        text-align: right;\n",
       "    }\n",
       "</style>\n",
       "<table border=\"1\" class=\"dataframe\">\n",
       "  <thead>\n",
       "    <tr style=\"text-align: right;\">\n",
       "      <th></th>\n",
       "      <th>name</th>\n",
       "      <th>platform</th>\n",
       "      <th>year_of_release</th>\n",
       "      <th>genre</th>\n",
       "      <th>na_sales</th>\n",
       "      <th>eu_sales</th>\n",
       "      <th>jp_sales</th>\n",
       "      <th>other_sales</th>\n",
       "      <th>critic_score</th>\n",
       "      <th>user_score</th>\n",
       "      <th>rating</th>\n",
       "    </tr>\n",
       "  </thead>\n",
       "  <tbody>\n",
       "    <tr>\n",
       "      <th>14983</th>\n",
       "      <td>Beyblade Burst</td>\n",
       "      <td>3DS</td>\n",
       "      <td>2016.0</td>\n",
       "      <td>Role-Playing</td>\n",
       "      <td>0.00</td>\n",
       "      <td>0.00</td>\n",
       "      <td>0.03</td>\n",
       "      <td>0.00</td>\n",
       "      <td>NaN</td>\n",
       "      <td>NaN</td>\n",
       "      <td>NaN</td>\n",
       "    </tr>\n",
       "    <tr>\n",
       "      <th>1079</th>\n",
       "      <td>Fire Emblem Fates</td>\n",
       "      <td>3DS</td>\n",
       "      <td>2015.0</td>\n",
       "      <td>Role-Playing</td>\n",
       "      <td>0.81</td>\n",
       "      <td>0.23</td>\n",
       "      <td>0.52</td>\n",
       "      <td>0.11</td>\n",
       "      <td>NaN</td>\n",
       "      <td>NaN</td>\n",
       "      <td>NaN</td>\n",
       "    </tr>\n",
       "    <tr>\n",
       "      <th>3358</th>\n",
       "      <td>Frozen: Olaf's Quest</td>\n",
       "      <td>3DS</td>\n",
       "      <td>2013.0</td>\n",
       "      <td>Platform</td>\n",
       "      <td>0.27</td>\n",
       "      <td>0.27</td>\n",
       "      <td>0.00</td>\n",
       "      <td>0.05</td>\n",
       "      <td>NaN</td>\n",
       "      <td>NaN</td>\n",
       "      <td>NaN</td>\n",
       "    </tr>\n",
       "    <tr>\n",
       "      <th>3862</th>\n",
       "      <td>Frozen: Olaf's Quest</td>\n",
       "      <td>DS</td>\n",
       "      <td>2013.0</td>\n",
       "      <td>Platform</td>\n",
       "      <td>0.21</td>\n",
       "      <td>0.26</td>\n",
       "      <td>0.00</td>\n",
       "      <td>0.04</td>\n",
       "      <td>NaN</td>\n",
       "      <td>NaN</td>\n",
       "      <td>NaN</td>\n",
       "    </tr>\n",
       "    <tr>\n",
       "      <th>13794</th>\n",
       "      <td>Haikyu!! Cross Team Match!</td>\n",
       "      <td>3DS</td>\n",
       "      <td>2016.0</td>\n",
       "      <td>Adventure</td>\n",
       "      <td>0.00</td>\n",
       "      <td>0.00</td>\n",
       "      <td>0.04</td>\n",
       "      <td>0.00</td>\n",
       "      <td>NaN</td>\n",
       "      <td>NaN</td>\n",
       "      <td>NaN</td>\n",
       "    </tr>\n",
       "    <tr>\n",
       "      <th>...</th>\n",
       "      <td>...</td>\n",
       "      <td>...</td>\n",
       "      <td>...</td>\n",
       "      <td>...</td>\n",
       "      <td>...</td>\n",
       "      <td>...</td>\n",
       "      <td>...</td>\n",
       "      <td>...</td>\n",
       "      <td>...</td>\n",
       "      <td>...</td>\n",
       "      <td>...</td>\n",
       "    </tr>\n",
       "    <tr>\n",
       "      <th>12960</th>\n",
       "      <td>Zyuden Sentai Kyoryuger: Game de Gaburincho!!</td>\n",
       "      <td>3DS</td>\n",
       "      <td>2013.0</td>\n",
       "      <td>Action</td>\n",
       "      <td>0.00</td>\n",
       "      <td>0.00</td>\n",
       "      <td>0.05</td>\n",
       "      <td>0.00</td>\n",
       "      <td>NaN</td>\n",
       "      <td>NaN</td>\n",
       "      <td>NaN</td>\n",
       "    </tr>\n",
       "    <tr>\n",
       "      <th>16389</th>\n",
       "      <td>ef - a fairy tale of the two.</td>\n",
       "      <td>PS2</td>\n",
       "      <td>2010.0</td>\n",
       "      <td>Adventure</td>\n",
       "      <td>0.00</td>\n",
       "      <td>0.00</td>\n",
       "      <td>0.01</td>\n",
       "      <td>0.00</td>\n",
       "      <td>NaN</td>\n",
       "      <td>NaN</td>\n",
       "      <td>NaN</td>\n",
       "    </tr>\n",
       "    <tr>\n",
       "      <th>12190</th>\n",
       "      <td>everGirl</td>\n",
       "      <td>GBA</td>\n",
       "      <td>2005.0</td>\n",
       "      <td>Adventure</td>\n",
       "      <td>0.05</td>\n",
       "      <td>0.02</td>\n",
       "      <td>0.00</td>\n",
       "      <td>0.00</td>\n",
       "      <td>NaN</td>\n",
       "      <td>NaN</td>\n",
       "      <td>NaN</td>\n",
       "    </tr>\n",
       "    <tr>\n",
       "      <th>16511</th>\n",
       "      <td>th!nk Logic Trainer</td>\n",
       "      <td>Wii</td>\n",
       "      <td>2009.0</td>\n",
       "      <td>Puzzle</td>\n",
       "      <td>0.01</td>\n",
       "      <td>0.00</td>\n",
       "      <td>0.00</td>\n",
       "      <td>0.00</td>\n",
       "      <td>NaN</td>\n",
       "      <td>NaN</td>\n",
       "      <td>NaN</td>\n",
       "    </tr>\n",
       "    <tr>\n",
       "      <th>9134</th>\n",
       "      <td>¡Shin Chan Flipa en colores!</td>\n",
       "      <td>DS</td>\n",
       "      <td>2007.0</td>\n",
       "      <td>Platform</td>\n",
       "      <td>0.00</td>\n",
       "      <td>0.00</td>\n",
       "      <td>0.14</td>\n",
       "      <td>0.00</td>\n",
       "      <td>NaN</td>\n",
       "      <td>NaN</td>\n",
       "      <td>NaN</td>\n",
       "    </tr>\n",
       "  </tbody>\n",
       "</table>\n",
       "<p>6534 rows × 11 columns</p>\n",
       "</div>"
      ],
      "text/plain": [
       "                                                name platform  \\\n",
       "14983                                 Beyblade Burst      3DS   \n",
       "1079                               Fire Emblem Fates      3DS   \n",
       "3358                            Frozen: Olaf's Quest      3DS   \n",
       "3862                            Frozen: Olaf's Quest       DS   \n",
       "13794                     Haikyu!! Cross Team Match!      3DS   \n",
       "...                                              ...      ...   \n",
       "12960  Zyuden Sentai Kyoryuger: Game de Gaburincho!!      3DS   \n",
       "16389                  ef - a fairy tale of the two.      PS2   \n",
       "12190                                       everGirl      GBA   \n",
       "16511                            th!nk Logic Trainer      Wii   \n",
       "9134                    ¡Shin Chan Flipa en colores!       DS   \n",
       "\n",
       "       year_of_release         genre  na_sales  eu_sales  jp_sales  \\\n",
       "14983           2016.0  Role-Playing      0.00      0.00      0.03   \n",
       "1079            2015.0  Role-Playing      0.81      0.23      0.52   \n",
       "3358            2013.0      Platform      0.27      0.27      0.00   \n",
       "3862            2013.0      Platform      0.21      0.26      0.00   \n",
       "13794           2016.0     Adventure      0.00      0.00      0.04   \n",
       "...                ...           ...       ...       ...       ...   \n",
       "12960           2013.0        Action      0.00      0.00      0.05   \n",
       "16389           2010.0     Adventure      0.00      0.00      0.01   \n",
       "12190           2005.0     Adventure      0.05      0.02      0.00   \n",
       "16511           2009.0        Puzzle      0.01      0.00      0.00   \n",
       "9134            2007.0      Platform      0.00      0.00      0.14   \n",
       "\n",
       "       other_sales  critic_score user_score rating  \n",
       "14983         0.00           NaN        NaN    NaN  \n",
       "1079          0.11           NaN        NaN    NaN  \n",
       "3358          0.05           NaN        NaN    NaN  \n",
       "3862          0.04           NaN        NaN    NaN  \n",
       "13794         0.00           NaN        NaN    NaN  \n",
       "...            ...           ...        ...    ...  \n",
       "12960         0.00           NaN        NaN    NaN  \n",
       "16389         0.00           NaN        NaN    NaN  \n",
       "12190         0.00           NaN        NaN    NaN  \n",
       "16511         0.00           NaN        NaN    NaN  \n",
       "9134          0.00           NaN        NaN    NaN  \n",
       "\n",
       "[6534 rows x 11 columns]"
      ]
     },
     "execution_count": 9,
     "metadata": {},
     "output_type": "execute_result"
    }
   ],
   "source": [
    "data.query('critic_score.isnull() and user_score.isnull() and rating.isnull()').sort_values(by = 'name')"
   ]
  },
  {
   "cell_type": "markdown",
   "metadata": {},
   "source": [
    "Видим, что общего признака отсутствия значений в этих колонках не наблюдается."
   ]
  },
  {
   "cell_type": "markdown",
   "metadata": {},
   "source": [
    "В оставшихся трех колонках слишком много отсутствующих значений. Если мы их на что-то поменяем, то статистика будет искажена. Проверим, сколько уникальных значений в каждой из них:"
   ]
  },
  {
   "cell_type": "code",
   "execution_count": 10,
   "metadata": {},
   "outputs": [
    {
     "data": {
      "text/plain": [
       "70.0    252\n",
       "71.0    248\n",
       "75.0    240\n",
       "80.0    235\n",
       "73.0    234\n",
       "       ... \n",
       "29.0      3\n",
       "20.0      3\n",
       "13.0      1\n",
       "17.0      1\n",
       "21.0      1\n",
       "Name: critic_score, Length: 81, dtype: int64"
      ]
     },
     "execution_count": 10,
     "metadata": {},
     "output_type": "execute_result"
    }
   ],
   "source": [
    "data['critic_score'].value_counts()"
   ]
  },
  {
   "cell_type": "code",
   "execution_count": 11,
   "metadata": {},
   "outputs": [
    {
     "data": {
      "text/html": [
       "<div>\n",
       "<style scoped>\n",
       "    .dataframe tbody tr th:only-of-type {\n",
       "        vertical-align: middle;\n",
       "    }\n",
       "\n",
       "    .dataframe tbody tr th {\n",
       "        vertical-align: top;\n",
       "    }\n",
       "\n",
       "    .dataframe thead th {\n",
       "        text-align: right;\n",
       "    }\n",
       "</style>\n",
       "<table border=\"1\" class=\"dataframe\">\n",
       "  <thead>\n",
       "    <tr style=\"text-align: right;\">\n",
       "      <th></th>\n",
       "      <th>name</th>\n",
       "      <th>platform</th>\n",
       "      <th>year_of_release</th>\n",
       "      <th>genre</th>\n",
       "      <th>na_sales</th>\n",
       "      <th>eu_sales</th>\n",
       "      <th>jp_sales</th>\n",
       "      <th>other_sales</th>\n",
       "      <th>critic_score</th>\n",
       "      <th>user_score</th>\n",
       "      <th>rating</th>\n",
       "    </tr>\n",
       "  </thead>\n",
       "  <tbody>\n",
       "    <tr>\n",
       "      <th>1</th>\n",
       "      <td>Super Mario Bros.</td>\n",
       "      <td>NES</td>\n",
       "      <td>1985.0</td>\n",
       "      <td>Platform</td>\n",
       "      <td>29.08</td>\n",
       "      <td>3.58</td>\n",
       "      <td>6.81</td>\n",
       "      <td>0.77</td>\n",
       "      <td>NaN</td>\n",
       "      <td>NaN</td>\n",
       "      <td>NaN</td>\n",
       "    </tr>\n",
       "    <tr>\n",
       "      <th>4</th>\n",
       "      <td>Pokemon Red/Pokemon Blue</td>\n",
       "      <td>GB</td>\n",
       "      <td>1996.0</td>\n",
       "      <td>Role-Playing</td>\n",
       "      <td>11.27</td>\n",
       "      <td>8.89</td>\n",
       "      <td>10.22</td>\n",
       "      <td>1.00</td>\n",
       "      <td>NaN</td>\n",
       "      <td>NaN</td>\n",
       "      <td>NaN</td>\n",
       "    </tr>\n",
       "    <tr>\n",
       "      <th>5</th>\n",
       "      <td>Tetris</td>\n",
       "      <td>GB</td>\n",
       "      <td>1989.0</td>\n",
       "      <td>Puzzle</td>\n",
       "      <td>23.20</td>\n",
       "      <td>2.26</td>\n",
       "      <td>4.22</td>\n",
       "      <td>0.58</td>\n",
       "      <td>NaN</td>\n",
       "      <td>NaN</td>\n",
       "      <td>NaN</td>\n",
       "    </tr>\n",
       "    <tr>\n",
       "      <th>9</th>\n",
       "      <td>Duck Hunt</td>\n",
       "      <td>NES</td>\n",
       "      <td>1984.0</td>\n",
       "      <td>Shooter</td>\n",
       "      <td>26.93</td>\n",
       "      <td>0.63</td>\n",
       "      <td>0.28</td>\n",
       "      <td>0.47</td>\n",
       "      <td>NaN</td>\n",
       "      <td>NaN</td>\n",
       "      <td>NaN</td>\n",
       "    </tr>\n",
       "    <tr>\n",
       "      <th>10</th>\n",
       "      <td>Nintendogs</td>\n",
       "      <td>DS</td>\n",
       "      <td>2005.0</td>\n",
       "      <td>Simulation</td>\n",
       "      <td>9.05</td>\n",
       "      <td>10.95</td>\n",
       "      <td>1.93</td>\n",
       "      <td>2.74</td>\n",
       "      <td>NaN</td>\n",
       "      <td>NaN</td>\n",
       "      <td>NaN</td>\n",
       "    </tr>\n",
       "    <tr>\n",
       "      <th>...</th>\n",
       "      <td>...</td>\n",
       "      <td>...</td>\n",
       "      <td>...</td>\n",
       "      <td>...</td>\n",
       "      <td>...</td>\n",
       "      <td>...</td>\n",
       "      <td>...</td>\n",
       "      <td>...</td>\n",
       "      <td>...</td>\n",
       "      <td>...</td>\n",
       "      <td>...</td>\n",
       "    </tr>\n",
       "    <tr>\n",
       "      <th>16710</th>\n",
       "      <td>Samurai Warriors: Sanada Maru</td>\n",
       "      <td>PS3</td>\n",
       "      <td>2016.0</td>\n",
       "      <td>Action</td>\n",
       "      <td>0.00</td>\n",
       "      <td>0.00</td>\n",
       "      <td>0.01</td>\n",
       "      <td>0.00</td>\n",
       "      <td>NaN</td>\n",
       "      <td>NaN</td>\n",
       "      <td>NaN</td>\n",
       "    </tr>\n",
       "    <tr>\n",
       "      <th>16711</th>\n",
       "      <td>LMA Manager 2007</td>\n",
       "      <td>X360</td>\n",
       "      <td>2006.0</td>\n",
       "      <td>Sports</td>\n",
       "      <td>0.00</td>\n",
       "      <td>0.01</td>\n",
       "      <td>0.00</td>\n",
       "      <td>0.00</td>\n",
       "      <td>NaN</td>\n",
       "      <td>NaN</td>\n",
       "      <td>NaN</td>\n",
       "    </tr>\n",
       "    <tr>\n",
       "      <th>16712</th>\n",
       "      <td>Haitaka no Psychedelica</td>\n",
       "      <td>PSV</td>\n",
       "      <td>2016.0</td>\n",
       "      <td>Adventure</td>\n",
       "      <td>0.00</td>\n",
       "      <td>0.00</td>\n",
       "      <td>0.01</td>\n",
       "      <td>0.00</td>\n",
       "      <td>NaN</td>\n",
       "      <td>NaN</td>\n",
       "      <td>NaN</td>\n",
       "    </tr>\n",
       "    <tr>\n",
       "      <th>16713</th>\n",
       "      <td>Spirits &amp; Spells</td>\n",
       "      <td>GBA</td>\n",
       "      <td>2003.0</td>\n",
       "      <td>Platform</td>\n",
       "      <td>0.01</td>\n",
       "      <td>0.00</td>\n",
       "      <td>0.00</td>\n",
       "      <td>0.00</td>\n",
       "      <td>NaN</td>\n",
       "      <td>NaN</td>\n",
       "      <td>NaN</td>\n",
       "    </tr>\n",
       "    <tr>\n",
       "      <th>16714</th>\n",
       "      <td>Winning Post 8 2016</td>\n",
       "      <td>PSV</td>\n",
       "      <td>2016.0</td>\n",
       "      <td>Simulation</td>\n",
       "      <td>0.00</td>\n",
       "      <td>0.00</td>\n",
       "      <td>0.01</td>\n",
       "      <td>0.00</td>\n",
       "      <td>NaN</td>\n",
       "      <td>NaN</td>\n",
       "      <td>NaN</td>\n",
       "    </tr>\n",
       "  </tbody>\n",
       "</table>\n",
       "<p>8461 rows × 11 columns</p>\n",
       "</div>"
      ],
      "text/plain": [
       "                                name platform  year_of_release         genre  \\\n",
       "1                  Super Mario Bros.      NES           1985.0      Platform   \n",
       "4           Pokemon Red/Pokemon Blue       GB           1996.0  Role-Playing   \n",
       "5                             Tetris       GB           1989.0        Puzzle   \n",
       "9                          Duck Hunt      NES           1984.0       Shooter   \n",
       "10                        Nintendogs       DS           2005.0    Simulation   \n",
       "...                              ...      ...              ...           ...   \n",
       "16710  Samurai Warriors: Sanada Maru      PS3           2016.0        Action   \n",
       "16711               LMA Manager 2007     X360           2006.0        Sports   \n",
       "16712        Haitaka no Psychedelica      PSV           2016.0     Adventure   \n",
       "16713               Spirits & Spells      GBA           2003.0      Platform   \n",
       "16714            Winning Post 8 2016      PSV           2016.0    Simulation   \n",
       "\n",
       "       na_sales  eu_sales  jp_sales  other_sales  critic_score user_score  \\\n",
       "1         29.08      3.58      6.81         0.77           NaN        NaN   \n",
       "4         11.27      8.89     10.22         1.00           NaN        NaN   \n",
       "5         23.20      2.26      4.22         0.58           NaN        NaN   \n",
       "9         26.93      0.63      0.28         0.47           NaN        NaN   \n",
       "10         9.05     10.95      1.93         2.74           NaN        NaN   \n",
       "...         ...       ...       ...          ...           ...        ...   \n",
       "16710      0.00      0.00      0.01         0.00           NaN        NaN   \n",
       "16711      0.00      0.01      0.00         0.00           NaN        NaN   \n",
       "16712      0.00      0.00      0.01         0.00           NaN        NaN   \n",
       "16713      0.01      0.00      0.00         0.00           NaN        NaN   \n",
       "16714      0.00      0.00      0.01         0.00           NaN        NaN   \n",
       "\n",
       "      rating  \n",
       "1        NaN  \n",
       "4        NaN  \n",
       "5        NaN  \n",
       "9        NaN  \n",
       "10       NaN  \n",
       "...      ...  \n",
       "16710    NaN  \n",
       "16711    NaN  \n",
       "16712    NaN  \n",
       "16713    NaN  \n",
       "16714    NaN  \n",
       "\n",
       "[8461 rows x 11 columns]"
      ]
     },
     "execution_count": 11,
     "metadata": {},
     "output_type": "execute_result"
    }
   ],
   "source": [
    "data.query('critic_score.isnull()')"
   ]
  },
  {
   "cell_type": "code",
   "execution_count": 12,
   "metadata": {},
   "outputs": [
    {
     "data": {
      "text/plain": [
       "tbd    2376\n",
       "7.8     322\n",
       "8       285\n",
       "8.2     276\n",
       "8.3     252\n",
       "       ... \n",
       "2.3       2\n",
       "0.7       2\n",
       "1         2\n",
       "9.7       1\n",
       "0         1\n",
       "Name: user_score, Length: 96, dtype: int64"
      ]
     },
     "execution_count": 12,
     "metadata": {},
     "output_type": "execute_result"
    }
   ],
   "source": [
    "data['user_score'].value_counts()"
   ]
  },
  {
   "cell_type": "markdown",
   "metadata": {},
   "source": [
    "Самое большое количество у странного значения tbd, которое не является числом, как должно быть в этом столбце. Гугл нам ответил, что это значение - To be determined - подлежит определению. Его применяют в тех случаях, когда разработкой занимаются несколько человек/команд, и одна ветка еще не доработана. Это значит, что это значение нам удалять точно нельзя, как и заменять его на '0', потому что '0' может быть реальной оценкой. Нам нужно заменить его на какое-то значение, которое точно никогда не может встретиться, чтобы понимать, что оно ненастоящее/временное. Например, -5. То же самое сделаем и для отсутствующих значений в столбцах user_score и critic_score:"
   ]
  },
  
  {
   "cell_type": "code",
   "execution_count": 13,
   "metadata": {},
   "outputs": [],
   "source": [
    "pd.options.mode.chained_assignment = None"
   ]
  },
  
  {
   "cell_type": "code",
   "execution_count": 14,
   "metadata": {},
   "outputs": [
    {
     "data": {
      "text/plain": [
       "name                  0\n",
       "platform              0\n",
       "year_of_release       0\n",
       "genre                 0\n",
       "na_sales              0\n",
       "eu_sales              0\n",
       "jp_sales              0\n",
       "other_sales           0\n",
       "critic_score          0\n",
       "user_score            0\n",
       "rating             6676\n",
       "dtype: int64"
      ]
     },
     "execution_count": 14,
     "metadata": {},
     "output_type": "execute_result"
    }
   ],
   "source": [
    "data['user_score'] = data['user_score'].replace('tbd', '-5') #когда загрузятся реальные значения, то tbd уже не будет встречаться\n",
    "data['user_score'] = data['user_score'].fillna(-5) #после загрузки tbd останутся -5 только в отсутствующих по другим причинам значениях\n",
    "data['critic_score'] = data['critic_score'].fillna(-5)\n",
    "data.isna().sum()"
   ]
  },
  {
   "cell_type": "code",
   "execution_count": 15,
   "metadata": {},
   "outputs": [
    {
     "data": {
      "text/plain": [
       "E       3921\n",
       "T       2905\n",
       "M       1536\n",
       "E10+    1393\n",
       "EC         8\n",
       "K-A        3\n",
       "RP         1\n",
       "AO         1\n",
       "Name: rating, dtype: int64"
      ]
     },
     "execution_count": 15,
     "metadata": {},
     "output_type": "execute_result"
    }
   ],
   "source": [
    "data['rating'].value_counts()"
   ]
  },
  {
   "cell_type": "markdown",
   "metadata": {},
   "source": [
    "Значения в столбце с рейтингом текстовые, в формате `object`, поэтому заменить отсутствующие значения на число будет некорректно. Заменим их на значение 'unknown' (неизвестный)."
   ]
  },
  {
   "cell_type": "code",
   "execution_count": 16,
   "metadata": {},
   "outputs": [
    {
     "data": {
      "text/plain": [
       "name               0\n",
       "platform           0\n",
       "year_of_release    0\n",
       "genre              0\n",
       "na_sales           0\n",
       "eu_sales           0\n",
       "jp_sales           0\n",
       "other_sales        0\n",
       "critic_score       0\n",
       "user_score         0\n",
       "rating             0\n",
       "dtype: int64"
      ]
     },
     "execution_count": 16,
     "metadata": {},
     "output_type": "execute_result"
    }
   ],
   "source": [
    "data['rating'] = data['rating'].fillna('unknown')\n",
    "data.isna().sum()"
   ]
  },
  {
   "cell_type": "markdown",
   "metadata": {},
   "source": [
    "Теперь можем поменять тип данных:"
   ]
  },
  {
   "cell_type": "code",
   "execution_count": 17,
   "metadata": {},
   "outputs": [
    {
     "name": "stdout",
     "output_type": "stream",
     "text": [
      "<class 'pandas.core.frame.DataFrame'>\n",
      "Int64Index: 16444 entries, 0 to 16714\n",
      "Data columns (total 11 columns):\n",
      " #   Column           Non-Null Count  Dtype  \n",
      "---  ------           --------------  -----  \n",
      " 0   name             16444 non-null  object \n",
      " 1   platform         16444 non-null  object \n",
      " 2   year_of_release  16444 non-null  Int64  \n",
      " 3   genre            16444 non-null  object \n",
      " 4   na_sales         16444 non-null  float64\n",
      " 5   eu_sales         16444 non-null  float64\n",
      " 6   jp_sales         16444 non-null  float64\n",
      " 7   other_sales      16444 non-null  float64\n",
      " 8   critic_score     16444 non-null  Int64  \n",
      " 9   user_score       16444 non-null  float64\n",
      " 10  rating           16444 non-null  object \n",
      "dtypes: Int64(2), float64(5), object(4)\n",
      "memory usage: 1.5+ MB\n"
     ]
    }
   ],
   "source": [
    "data['year_of_release'] = data['year_of_release'].astype('Int64')\n",
    "data['user_score'] = data['user_score'].astype('float64')\n",
    "data['critic_score'] = data['critic_score'].astype('Int64')\n",
    "data.info()"
   ]
  },
  {
   "cell_type": "markdown",
   "metadata": {},
   "source": [
    "Посчитаем суммарные продажи во всех регионах и запишем их в отдельный столбец:"
   ]
  },
  {
   "cell_type": "code",
   "execution_count": 18,
   "metadata": {},
   "outputs": [
    {
     "data": {
      "text/html": [
       "<div>\n",
       "<style scoped>\n",
       "    .dataframe tbody tr th:only-of-type {\n",
       "        vertical-align: middle;\n",
       "    }\n",
       "\n",
       "    .dataframe tbody tr th {\n",
       "        vertical-align: top;\n",
       "    }\n",
       "\n",
       "    .dataframe thead th {\n",
       "        text-align: right;\n",
       "    }\n",
       "</style>\n",
       "<table border=\"1\" class=\"dataframe\">\n",
       "  <thead>\n",
       "    <tr style=\"text-align: right;\">\n",
       "      <th></th>\n",
       "      <th>name</th>\n",
       "      <th>platform</th>\n",
       "      <th>year_of_release</th>\n",
       "      <th>genre</th>\n",
       "      <th>na_sales</th>\n",
       "      <th>eu_sales</th>\n",
       "      <th>jp_sales</th>\n",
       "      <th>other_sales</th>\n",
       "      <th>critic_score</th>\n",
       "      <th>user_score</th>\n",
       "      <th>rating</th>\n",
       "      <th>sales_total</th>\n",
       "    </tr>\n",
       "  </thead>\n",
       "  <tbody>\n",
       "    <tr>\n",
       "      <th>0</th>\n",
       "      <td>Wii Sports</td>\n",
       "      <td>Wii</td>\n",
       "      <td>2006</td>\n",
       "      <td>Sports</td>\n",
       "      <td>41.36</td>\n",
       "      <td>28.96</td>\n",
       "      <td>3.77</td>\n",
       "      <td>8.45</td>\n",
       "      <td>76</td>\n",
       "      <td>8.0</td>\n",
       "      <td>E</td>\n",
       "      <td>111.50</td>\n",
       "    </tr>\n",
       "    <tr>\n",
       "      <th>1</th>\n",
       "      <td>Super Mario Bros.</td>\n",
       "      <td>NES</td>\n",
       "      <td>1985</td>\n",
       "      <td>Platform</td>\n",
       "      <td>29.08</td>\n",
       "      <td>3.58</td>\n",
       "      <td>6.81</td>\n",
       "      <td>0.77</td>\n",
       "      <td>-5</td>\n",
       "      <td>-5.0</td>\n",
       "      <td>unknown</td>\n",
       "      <td>43.82</td>\n",
       "    </tr>\n",
       "    <tr>\n",
       "      <th>2</th>\n",
       "      <td>Mario Kart Wii</td>\n",
       "      <td>Wii</td>\n",
       "      <td>2008</td>\n",
       "      <td>Racing</td>\n",
       "      <td>15.68</td>\n",
       "      <td>12.76</td>\n",
       "      <td>3.79</td>\n",
       "      <td>3.29</td>\n",
       "      <td>82</td>\n",
       "      <td>8.3</td>\n",
       "      <td>E</td>\n",
       "      <td>48.28</td>\n",
       "    </tr>\n",
       "    <tr>\n",
       "      <th>3</th>\n",
       "      <td>Wii Sports Resort</td>\n",
       "      <td>Wii</td>\n",
       "      <td>2009</td>\n",
       "      <td>Sports</td>\n",
       "      <td>15.61</td>\n",
       "      <td>10.93</td>\n",
       "      <td>3.28</td>\n",
       "      <td>2.95</td>\n",
       "      <td>80</td>\n",
       "      <td>8.0</td>\n",
       "      <td>E</td>\n",
       "      <td>43.70</td>\n",
       "    </tr>\n",
       "    <tr>\n",
       "      <th>4</th>\n",
       "      <td>Pokemon Red/Pokemon Blue</td>\n",
       "      <td>GB</td>\n",
       "      <td>1996</td>\n",
       "      <td>Role-Playing</td>\n",
       "      <td>11.27</td>\n",
       "      <td>8.89</td>\n",
       "      <td>10.22</td>\n",
       "      <td>1.00</td>\n",
       "      <td>-5</td>\n",
       "      <td>-5.0</td>\n",
       "      <td>unknown</td>\n",
       "      <td>40.27</td>\n",
       "    </tr>\n",
       "    <tr>\n",
       "      <th>...</th>\n",
       "      <td>...</td>\n",
       "      <td>...</td>\n",
       "      <td>...</td>\n",
       "      <td>...</td>\n",
       "      <td>...</td>\n",
       "      <td>...</td>\n",
       "      <td>...</td>\n",
       "      <td>...</td>\n",
       "      <td>...</td>\n",
       "      <td>...</td>\n",
       "      <td>...</td>\n",
       "      <td>...</td>\n",
       "    </tr>\n",
       "    <tr>\n",
       "      <th>16710</th>\n",
       "      <td>Samurai Warriors: Sanada Maru</td>\n",
       "      <td>PS3</td>\n",
       "      <td>2016</td>\n",
       "      <td>Action</td>\n",
       "      <td>0.00</td>\n",
       "      <td>0.00</td>\n",
       "      <td>0.01</td>\n",
       "      <td>0.00</td>\n",
       "      <td>-5</td>\n",
       "      <td>-5.0</td>\n",
       "      <td>unknown</td>\n",
       "      <td>0.01</td>\n",
       "    </tr>\n",
       "    <tr>\n",
       "      <th>16711</th>\n",
       "      <td>LMA Manager 2007</td>\n",
       "      <td>X360</td>\n",
       "      <td>2006</td>\n",
       "      <td>Sports</td>\n",
       "      <td>0.00</td>\n",
       "      <td>0.01</td>\n",
       "      <td>0.00</td>\n",
       "      <td>0.00</td>\n",
       "      <td>-5</td>\n",
       "      <td>-5.0</td>\n",
       "      <td>unknown</td>\n",
       "      <td>0.02</td>\n",
       "    </tr>\n",
       "    <tr>\n",
       "      <th>16712</th>\n",
       "      <td>Haitaka no Psychedelica</td>\n",
       "      <td>PSV</td>\n",
       "      <td>2016</td>\n",
       "      <td>Adventure</td>\n",
       "      <td>0.00</td>\n",
       "      <td>0.00</td>\n",
       "      <td>0.01</td>\n",
       "      <td>0.00</td>\n",
       "      <td>-5</td>\n",
       "      <td>-5.0</td>\n",
       "      <td>unknown</td>\n",
       "      <td>0.01</td>\n",
       "    </tr>\n",
       "    <tr>\n",
       "      <th>16713</th>\n",
       "      <td>Spirits &amp; Spells</td>\n",
       "      <td>GBA</td>\n",
       "      <td>2003</td>\n",
       "      <td>Platform</td>\n",
       "      <td>0.01</td>\n",
       "      <td>0.00</td>\n",
       "      <td>0.00</td>\n",
       "      <td>0.00</td>\n",
       "      <td>-5</td>\n",
       "      <td>-5.0</td>\n",
       "      <td>unknown</td>\n",
       "      <td>0.01</td>\n",
       "    </tr>\n",
       "    <tr>\n",
       "      <th>16714</th>\n",
       "      <td>Winning Post 8 2016</td>\n",
       "      <td>PSV</td>\n",
       "      <td>2016</td>\n",
       "      <td>Simulation</td>\n",
       "      <td>0.00</td>\n",
       "      <td>0.00</td>\n",
       "      <td>0.01</td>\n",
       "      <td>0.00</td>\n",
       "      <td>-5</td>\n",
       "      <td>-5.0</td>\n",
       "      <td>unknown</td>\n",
       "      <td>0.01</td>\n",
       "    </tr>\n",
       "  </tbody>\n",
       "</table>\n",
       "<p>16444 rows × 12 columns</p>\n",
       "</div>"
      ],
      "text/plain": [
       "                                name platform  year_of_release         genre  \\\n",
       "0                         Wii Sports      Wii             2006        Sports   \n",
       "1                  Super Mario Bros.      NES             1985      Platform   \n",
       "2                     Mario Kart Wii      Wii             2008        Racing   \n",
       "3                  Wii Sports Resort      Wii             2009        Sports   \n",
       "4           Pokemon Red/Pokemon Blue       GB             1996  Role-Playing   \n",
       "...                              ...      ...              ...           ...   \n",
       "16710  Samurai Warriors: Sanada Maru      PS3             2016        Action   \n",
       "16711               LMA Manager 2007     X360             2006        Sports   \n",
       "16712        Haitaka no Psychedelica      PSV             2016     Adventure   \n",
       "16713               Spirits & Spells      GBA             2003      Platform   \n",
       "16714            Winning Post 8 2016      PSV             2016    Simulation   \n",
       "\n",
       "       na_sales  eu_sales  jp_sales  other_sales  critic_score  user_score  \\\n",
       "0         41.36     28.96      3.77         8.45            76         8.0   \n",
       "1         29.08      3.58      6.81         0.77            -5        -5.0   \n",
       "2         15.68     12.76      3.79         3.29            82         8.3   \n",
       "3         15.61     10.93      3.28         2.95            80         8.0   \n",
       "4         11.27      8.89     10.22         1.00            -5        -5.0   \n",
       "...         ...       ...       ...          ...           ...         ...   \n",
       "16710      0.00      0.00      0.01         0.00            -5        -5.0   \n",
       "16711      0.00      0.01      0.00         0.00            -5        -5.0   \n",
       "16712      0.00      0.00      0.01         0.00            -5        -5.0   \n",
       "16713      0.01      0.00      0.00         0.00            -5        -5.0   \n",
       "16714      0.00      0.00      0.01         0.00            -5        -5.0   \n",
       "\n",
       "        rating  sales_total  \n",
       "0            E       111.50  \n",
       "1      unknown        43.82  \n",
       "2            E        48.28  \n",
       "3            E        43.70  \n",
       "4      unknown        40.27  \n",
       "...        ...          ...  \n",
       "16710  unknown         0.01  \n",
       "16711  unknown         0.02  \n",
       "16712  unknown         0.01  \n",
       "16713  unknown         0.01  \n",
       "16714  unknown         0.01  \n",
       "\n",
       "[16444 rows x 12 columns]"
      ]
     },
     "execution_count": 18,
     "metadata": {},
     "output_type": "execute_result"
    }
   ],
   "source": [
    "data['sales_total'] = data.loc[:, ['na_sales', 'eu_sales', 'eu_sales', 'jp_sales', 'other_sales']].sum(axis=1)\n",
    "data"
   ]
  },
  
  {
   "cell_type": "markdown",
   "metadata": {},
   "source": [
    "### Проведите исследовательский анализ данных"
   ]
  },
  {
   "cell_type": "markdown",
   "metadata": {},
   "source": [
    "#### Посмотрите, сколько игр выпускалось в разные годы. Важны ли данные за все периоды?"
   ]
  },
  {
   "cell_type": "markdown",
   "metadata": {},
   "source": [
    "Построим сводную таблицу по году выпуска и просуммируем количество выпускаемых игр в каждый год и, для наглядности, сразу построим график:"
   ]
  },
  {
   "cell_type": "code",
   "execution_count": 20,
   "metadata": {},
   "outputs": [
    {
     "data": {
      "image/png": "[encoded data removed]",
      "text/plain": [
       "<Figure size 432x288 with 1 Axes>"
      ]
     },
     "metadata": {
      "needs_background": "light"
     },
     "output_type": "display_data"
    }
   ],
   "source": [
    "games_per_year = (\n",
    "    data[['name', 'year_of_release']]\n",
    "        .drop_duplicates()\n",
    "        .pivot_table(index='year_of_release', values='name', aggfunc='count')\n",
    "        .sort_values('year_of_release', ascending=False)\n",
    "        .plot(title = 'Кол-во выпущенных игр по годам')\n",
    ")"
   ]
  },
  
  {
   "cell_type": "markdown",
   "metadata": {},
   "source": [
    "<div class=\"alert alert-block alert-info\">\n",
    "<b>✔</b> \n",
    "</div>"
   ]
  },
  {
   "cell_type": "markdown",
   "metadata": {},
   "source": [
    "Из графика видно, что расцвет игровой индустрии пришелся на период с 2005 по 2010 годы. До 1994 года игр выпускалось мало и, думаю, что этот период не так важен для анализа, потому что много современных технологий в те годы просто не существовали и индустрии, в целом, в таком виде, как сейчас, еще не существовало."
   ]
  },
  
  {
   "cell_type": "markdown",
   "metadata": {},
   "source": [
    "#### Посмотрите, как менялись продажи по платформам. "
   ]
  },
  {
   "cell_type": "markdown",
   "metadata": {},
   "source": [
    "Выберем платформы с наибольшими суммарными продажами и построим распределение по годам. За какой характерный срок появляются новые и исчезают старые платформы?"
   ]
  },
  {
   "cell_type": "markdown",
   "metadata": {},
   "source": [
    "Сначала выберем платформы по суммарным продажам:"
   ]
  },
  {
   "cell_type": "code",
   "execution_count": 25,
   "metadata": {},
   "outputs": [
    {
     "data": {
      "text/html": [
       "<div>\n",
       "<style scoped>\n",
       "    .dataframe tbody tr th:only-of-type {\n",
       "        vertical-align: middle;\n",
       "    }\n",
       "\n",
       "    .dataframe tbody tr th {\n",
       "        vertical-align: top;\n",
       "    }\n",
       "\n",
       "    .dataframe thead th {\n",
       "        text-align: right;\n",
       "    }\n",
       "</style>\n",
       "<table border=\"1\" class=\"dataframe\">\n",
       "  <thead>\n",
       "    <tr style=\"text-align: right;\">\n",
       "      <th></th>\n",
       "      <th>platform</th>\n",
       "      <th>sales_total</th>\n",
       "    </tr>\n",
       "  </thead>\n",
       "  <tbody>\n",
       "    <tr>\n",
       "      <th>16</th>\n",
       "      <td>PS2</td>\n",
       "      <td>1566.19</td>\n",
       "    </tr>\n",
       "    <tr>\n",
       "      <th>17</th>\n",
       "      <td>PS3</td>\n",
       "      <td>1258.55</td>\n",
       "    </tr>\n",
       "    <tr>\n",
       "      <th>28</th>\n",
       "      <td>X360</td>\n",
       "      <td>1229.56</td>\n",
       "    </tr>\n",
       "    <tr>\n",
       "      <th>26</th>\n",
       "      <td>Wii</td>\n",
       "      <td>1149.50</td>\n",
       "    </tr>\n",
       "    <tr>\n",
       "      <th>4</th>\n",
       "      <td>DS</td>\n",
       "      <td>991.19</td>\n",
       "    </tr>\n",
       "    <tr>\n",
       "      <th>15</th>\n",
       "      <td>PS</td>\n",
       "      <td>939.97</td>\n",
       "    </tr>\n",
       "    <tr>\n",
       "      <th>18</th>\n",
       "      <td>PS4</td>\n",
       "      <td>455.23</td>\n",
       "    </tr>\n",
       "    <tr>\n",
       "      <th>13</th>\n",
       "      <td>PC</td>\n",
       "      <td>396.13</td>\n",
       "    </tr>\n",
       "    <tr>\n",
       "      <th>6</th>\n",
       "      <td>GBA</td>\n",
       "      <td>387.47</td>\n",
       "    </tr>\n",
       "    <tr>\n",
       "      <th>19</th>\n",
       "      <td>PSP</td>\n",
       "      <td>355.15</td>\n",
       "    </tr>\n",
       "    <tr>\n",
       "      <th>2</th>\n",
       "      <td>3DS</td>\n",
       "      <td>319.08</td>\n",
       "    </tr>\n",
       "    <tr>\n",
       "      <th>29</th>\n",
       "      <td>XB</td>\n",
       "      <td>311.22</td>\n",
       "    </tr>\n",
       "    <tr>\n",
       "      <th>5</th>\n",
       "      <td>GB</td>\n",
       "      <td>301.94</td>\n",
       "    </tr>\n",
       "    <tr>\n",
       "      <th>11</th>\n",
       "      <td>NES</td>\n",
       "      <td>272.20</td>\n",
       "    </tr>\n",
       "    <tr>\n",
       "      <th>10</th>\n",
       "      <td>N64</td>\n",
       "      <td>259.04</td>\n",
       "    </tr>\n",
       "    <tr>\n",
       "      <th>7</th>\n",
       "      <td>GC</td>\n",
       "      <td>235.05</td>\n",
       "    </tr>\n",
       "    <tr>\n",
       "      <th>23</th>\n",
       "      <td>SNES</td>\n",
       "      <td>219.08</td>\n",
       "    </tr>\n",
       "    <tr>\n",
       "      <th>30</th>\n",
       "      <td>XOne</td>\n",
       "      <td>210.91</td>\n",
       "    </tr>\n",
       "    <tr>\n",
       "      <th>27</th>\n",
       "      <td>WiiU</td>\n",
       "      <td>107.32</td>\n",
       "    </tr>\n",
       "    <tr>\n",
       "      <th>0</th>\n",
       "      <td>2600</td>\n",
       "      <td>91.34</td>\n",
       "    </tr>\n",
       "    <tr>\n",
       "      <th>20</th>\n",
       "      <td>PSV</td>\n",
       "      <td>66.88</td>\n",
       "    </tr>\n",
       "    <tr>\n",
       "      <th>21</th>\n",
       "      <td>SAT</td>\n",
       "      <td>34.13</td>\n",
       "    </tr>\n",
       "    <tr>\n",
       "      <th>8</th>\n",
       "      <td>GEN</td>\n",
       "      <td>33.87</td>\n",
       "    </tr>\n",
       "    <tr>\n",
       "      <th>3</th>\n",
       "      <td>DC</td>\n",
       "      <td>17.64</td>\n",
       "    </tr>\n",
       "    <tr>\n",
       "      <th>22</th>\n",
       "      <td>SCD</td>\n",
       "      <td>2.22</td>\n",
       "    </tr>\n",
       "    <tr>\n",
       "      <th>12</th>\n",
       "      <td>NG</td>\n",
       "      <td>1.44</td>\n",
       "    </tr>\n",
       "    <tr>\n",
       "      <th>25</th>\n",
       "      <td>WS</td>\n",
       "      <td>1.42</td>\n",
       "    </tr>\n",
       "    <tr>\n",
       "      <th>24</th>\n",
       "      <td>TG16</td>\n",
       "      <td>0.16</td>\n",
       "    </tr>\n",
       "    <tr>\n",
       "      <th>1</th>\n",
       "      <td>3DO</td>\n",
       "      <td>0.10</td>\n",
       "    </tr>\n",
       "    <tr>\n",
       "      <th>9</th>\n",
       "      <td>GG</td>\n",
       "      <td>0.04</td>\n",
       "    </tr>\n",
       "    <tr>\n",
       "      <th>14</th>\n",
       "      <td>PCFX</td>\n",
       "      <td>0.03</td>\n",
       "    </tr>\n",
       "  </tbody>\n",
       "</table>\n",
       "</div>"
      ],
      "text/plain": [
       "   platform  sales_total\n",
       "16      PS2      1566.19\n",
       "17      PS3      1258.55\n",
       "28     X360      1229.56\n",
       "26      Wii      1149.50\n",
       "4        DS       991.19\n",
       "15       PS       939.97\n",
       "18      PS4       455.23\n",
       "13       PC       396.13\n",
       "6       GBA       387.47\n",
       "19      PSP       355.15\n",
       "2       3DS       319.08\n",
       "29       XB       311.22\n",
       "5        GB       301.94\n",
       "11      NES       272.20\n",
       "10      N64       259.04\n",
       "7        GC       235.05\n",
       "23     SNES       219.08\n",
       "30     XOne       210.91\n",
       "27     WiiU       107.32\n",
       "0      2600        91.34\n",
       "20      PSV        66.88\n",
       "21      SAT        34.13\n",
       "8       GEN        33.87\n",
       "3        DC        17.64\n",
       "22      SCD         2.22\n",
       "12       NG         1.44\n",
       "25       WS         1.42\n",
       "24     TG16         0.16\n",
       "1       3DO         0.10\n",
       "9        GG         0.04\n",
       "14     PCFX         0.03"
      ]
     },
     "execution_count": 25,
     "metadata": {},
     "output_type": "execute_result"
    }
   ],
   "source": [
    "sales_total_per_platform = (data.groupby(['platform'], as_index = False)['sales_total'].sum()\n",
    "                                .sort_values('sales_total', ascending = False))\n",
    "sales_total_per_platform"
   ]
  },
  {
   "cell_type": "markdown",
   "metadata": {},
   "source": [
    "Для наглядности построим график по этим данным:"
   ]
  },
  {
   "cell_type": "code",
   "execution_count": 29,
   "metadata": {},
   "outputs": [
    {
     "data": {
      "text/plain": [
       "<AxesSubplot:title={'center':'Кол-во продаж по платформам'}, xlabel='platform'>"
      ]
     },
     "execution_count": 29,
     "metadata": {},
     "output_type": "execute_result"
    },
    {
     "data": {
      "image/png": "[encoded data removed]",
      "text/plain": [
       "<Figure size 720x360 with 1 Axes>"
      ]
     },
     "metadata": {
      "needs_background": "light"
     },
     "output_type": "display_data"
    }
   ],
   "source": [
    "sales_total_per_platform.plot(kind='bar', x='platform', y='sales_total', figsize = (10, 5), title = 'Кол-во продаж по платформам')"
   ]
  },
  
  {
   "cell_type": "markdown",
   "metadata": {},
   "source": [
    "Из графика видно, что максимальные суммы продаж у PS2 и PS3. Выберем для анализа первые 6 ярко-выраженных пиков: PS2, PS3, X360, Wii, DS, PS."
   ]
  },
  {
   "cell_type": "code",
   "execution_count": 27,
   "metadata": {},
   "outputs": [
    {
     "data": {
      "text/plain": [
       "['PS2', 'PS3', 'X360', 'Wii', 'DS', 'PS']"
      ]
     },
     "execution_count": 27,
     "metadata": {},
     "output_type": "execute_result"
    }
   ],
   "source": [
    "top_6_per_years = sales_total_per_platform.head(6)['platform'].tolist()\n",
    "#top_6_per_years = sales_total_per_platform.sort_values(by=['platform'].head(5))\n",
    "top_6_per_years"
   ]
  },
  {
   "cell_type": "markdown",
   "metadata": {},
   "source": [
    "Теперь строим сводную и график по годам для каждой игры из нашей ТОП-6:"
   ]
  },
  {
   "cell_type": "code",
   "execution_count": 33,
   "metadata": {},
   "outputs": [
    {
     "data": {
      "image/png": "[encoded data removed]",
      "text/plain": [
       "<Figure size 720x360 with 1 Axes>"
      ]
     },
     "metadata": {
      "needs_background": "light"
     },
     "output_type": "display_data"
    }
   ],
   "source": [
    "for index in top_6_per_years:\n",
    "    (data.query('platform == @index and year_of_release != -5')\n",
    "         .pivot_table(index = 'year_of_release', values = 'sales_total', aggfunc = 'sum')\n",
    "         .sort_values('year_of_release', ascending = False)['sales_total']\n",
    "         .plot(figsize = (10, 5), label = index, legend = True, title = 'Кол-во продаж по ТОП-6', xlim = (1993, 2016))\n",
    "    )"
   ]
  },
  
  {
   "cell_type": "markdown",
   "metadata": {},
   "source": [
    "<div class=\"alert alert-block alert-info\">\n",
    "<b>✔</b> \n",
    "</div>"
   ]
  },
  {
   "cell_type": "markdown",
   "metadata": {},
   "source": [
    "По графику мы видим, что первая PS вышла в 1994 году и набрала популярность около 1999 года, вторая версия вышла через 5 лет и была популярна тоже около пяти лет. То же самое можно сказать и про  Wii и DS. Из чего мы можем сделать вывод, что актуальным периодом для нас будет последние 5 лет, за которые вышли новые платформы или те, которые пока еще популярны. То есть это данные с 2012 года."
   ]
  },
  
  {
   "cell_type": "code",
   "execution_count": 36,
   "metadata": {},
   "outputs": [
    {
     "data": {
      "text/plain": [
       "<AxesSubplot:title={'center':'Кол-во продаж по платформам с 2012г.'}, xlabel='platform'>"
      ]
     },
     "execution_count": 36,
     "metadata": {},
     "output_type": "execute_result"
    },
    {
     "data": {
      "image/png": "[encoded data removed]",
      "text/plain": [
       "<Figure size 720x360 with 1 Axes>"
      ]
     },
     "metadata": {
      "needs_background": "light"
     },
     "output_type": "display_data"
    }
   ],
   "source": [
    "platforms_actual = data.query('year_of_release >= 2012')\n",
    "platforms_actual_top = (platforms_actual\n",
    "                         .groupby(['platform'],as_index = False)['sales_total']\n",
    "                         .sum()\n",
    "                         .sort_values('sales_total', ascending = False)\n",
    "                           )\n",
    "platforms_actual_top.plot(kind = 'bar', x = 'platform', y = 'sales_total',figsize = (10, 5), title = 'Кол-во продаж по платформам с 2012г.')"
   ]
  },
  {
   "cell_type": "markdown",
   "metadata": {},
   "source": [
    "Выделили за актуальный период лидеров продаж. Теперь посмотрим в разрезе по годам как изменяются продажи."
   ]
  },
  {
   "cell_type": "code",
   "execution_count": 38,
   "metadata": {},
   "outputs": [
    {
     "data": {
      "image/png": "[encoded data removed]",
      "text/plain": [
       "<Figure size 720x360 with 1 Axes>"
      ]
     },
     "metadata": {
      "needs_background": "light"
     },
     "output_type": "display_data"
    }
   ],
   "source": [
    "platforms_lead = platforms_actual_top['platform'].tolist()\n",
    "for index in platforms_lead:\n",
    "    (platforms_actual.query('platform == @index')\n",
    "                     .pivot_table(index = 'year_of_release', values = 'sales_total', aggfunc = 'sum')\n",
    "                     .sort_values('year_of_release', ascending = False)['sales_total']\n",
    "                     .plot(figsize=(10, 5), label = index, legend = True, title = 'Кол-во продаж по годам с 2012г.')\n",
    "    )"
   ]
  },
  {
   "cell_type": "markdown",
   "metadata": {},
   "source": [
    "Из графика видно, что у всех платформ снижаются продажи. У лидеров рынка - PS4 и XOne - снижение уровня продаж началось позже остальных, с 2015 года, но мы помним из условия, что данные за 2016 год могут быть неполными, так что, вполне вероятно, после дополнения данных, там тоже будет рост. Можем считать их потенциально прибыльными."
   ]
  },
  {
   "cell_type": "code",
   "execution_count": null,
   "metadata": {},
   "outputs": [],
   "source": [
    "platforms_actual"
   ]
  },
  {
   "cell_type": "code",
   "execution_count": 39,
   "metadata": {},
   "outputs": [
    {
     "data": {
      "text/html": [
       "<div>\n",
       "<style scoped>\n",
       "    .dataframe tbody tr th:only-of-type {\n",
       "        vertical-align: middle;\n",
       "    }\n",
       "\n",
       "    .dataframe tbody tr th {\n",
       "        vertical-align: top;\n",
       "    }\n",
       "\n",
       "    .dataframe thead th {\n",
       "        text-align: right;\n",
       "    }\n",
       "</style>\n",
       "<table border=\"1\" class=\"dataframe\">\n",
       "  <thead>\n",
       "    <tr style=\"text-align: right;\">\n",
       "      <th></th>\n",
       "      <th>platform</th>\n",
       "      <th>year_of_release</th>\n",
       "      <th>sales_total</th>\n",
       "    </tr>\n",
       "  </thead>\n",
       "  <tbody>\n",
       "    <tr>\n",
       "      <th>4</th>\n",
       "      <td>XOne</td>\n",
       "      <td>2013</td>\n",
       "      <td>24.30</td>\n",
       "    </tr>\n",
       "    <tr>\n",
       "      <th>5</th>\n",
       "      <td>XOne</td>\n",
       "      <td>2014</td>\n",
       "      <td>72.22</td>\n",
       "    </tr>\n",
       "    <tr>\n",
       "      <th>6</th>\n",
       "      <td>XOne</td>\n",
       "      <td>2015</td>\n",
       "      <td>78.61</td>\n",
       "    </tr>\n",
       "    <tr>\n",
       "      <th>7</th>\n",
       "      <td>XOne</td>\n",
       "      <td>2016</td>\n",
       "      <td>35.78</td>\n",
       "    </tr>\n",
       "    <tr>\n",
       "      <th>0</th>\n",
       "      <td>PS4</td>\n",
       "      <td>2013</td>\n",
       "      <td>37.04</td>\n",
       "    </tr>\n",
       "    <tr>\n",
       "      <th>1</th>\n",
       "      <td>PS4</td>\n",
       "      <td>2014</td>\n",
       "      <td>146.50</td>\n",
       "    </tr>\n",
       "    <tr>\n",
       "      <th>2</th>\n",
       "      <td>PS4</td>\n",
       "      <td>2015</td>\n",
       "      <td>170.66</td>\n",
       "    </tr>\n",
       "    <tr>\n",
       "      <th>3</th>\n",
       "      <td>PS4</td>\n",
       "      <td>2016</td>\n",
       "      <td>101.03</td>\n",
       "    </tr>\n",
       "  </tbody>\n",
       "</table>\n",
       "</div>"
      ],
      "text/plain": [
       "  platform  year_of_release  sales_total\n",
       "4     XOne             2013        24.30\n",
       "5     XOne             2014        72.22\n",
       "6     XOne             2015        78.61\n",
       "7     XOne             2016        35.78\n",
       "0      PS4             2013        37.04\n",
       "1      PS4             2014       146.50\n",
       "2      PS4             2015       170.66\n",
       "3      PS4             2016       101.03"
      ]
     },
     "execution_count": 39,
     "metadata": {},
     "output_type": "execute_result"
    }
   ],
   "source": [
    "platforms_potential = platforms_actual.query('platform == \"PS4\" or platform == \"XOne\"')\n",
    "platforms_potential_group = (platforms_potential\n",
    "                       .groupby(['platform', 'year_of_release'], as_index = False)['sales_total'].sum()\n",
    "                       .sort_values('platform', ascending = False)\n",
    "                           )\n",
    "platforms_potential_group"
   ]
  },
  {
   "cell_type": "markdown",
   "metadata": {},
   "source": [
    "**Постройте график «ящик с усами» по глобальным продажам игр в разбивке по платформам.**"
   ]
  },
  {
   "cell_type": "code",
   "execution_count": 44,
   "metadata": {},
   "outputs": [
    {
     "data": {
      "image/png": "[encoded data removed]",
      "text/plain": [
       "<Figure size 432x288 with 1 Axes>"
      ]
     },
     "metadata": {
      "needs_background": "light"
     },
     "output_type": "display_data"
    }
   ],
   "source": [
    "ax = sns.boxplot(x = 'platform', y = 'sales_total', data = platforms_potential)\n",
    "ax.set(ylim = (0, 4), title = 'Продажи популярных игр');"
   ]
  },
  
  {
   "cell_type": "markdown",
   "metadata": {},
   "source": [
    "Из графика видим, что у обоих платформ в среднем получается около 1 млн. проданных копий. Чтобы увидеть более точные значения посмотрим в таблицу:"
   ]
  },
  {
   "cell_type": "code",
   "execution_count": 45,
   "metadata": {},
   "outputs": [
    {
     "data": {
      "text/html": [
       "<div>\n",
       "<style scoped>\n",
       "    .dataframe tbody tr th:only-of-type {\n",
       "        vertical-align: middle;\n",
       "    }\n",
       "\n",
       "    .dataframe tbody tr th {\n",
       "        vertical-align: top;\n",
       "    }\n",
       "\n",
       "    .dataframe thead th {\n",
       "        text-align: right;\n",
       "    }\n",
       "</style>\n",
       "<table border=\"1\" class=\"dataframe\">\n",
       "  <thead>\n",
       "    <tr style=\"text-align: right;\">\n",
       "      <th></th>\n",
       "      <th>year_of_release</th>\n",
       "      <th>na_sales</th>\n",
       "      <th>eu_sales</th>\n",
       "      <th>jp_sales</th>\n",
       "      <th>other_sales</th>\n",
       "      <th>critic_score</th>\n",
       "      <th>user_score</th>\n",
       "      <th>sales_total</th>\n",
       "    </tr>\n",
       "  </thead>\n",
       "  <tbody>\n",
       "    <tr>\n",
       "      <th>count</th>\n",
       "      <td>392.000000</td>\n",
       "      <td>392.000000</td>\n",
       "      <td>392.000000</td>\n",
       "      <td>392.000000</td>\n",
       "      <td>392.000000</td>\n",
       "      <td>392.000000</td>\n",
       "      <td>392.000000</td>\n",
       "      <td>392.000000</td>\n",
       "    </tr>\n",
       "    <tr>\n",
       "      <th>mean</th>\n",
       "      <td>2015.145408</td>\n",
       "      <td>0.277398</td>\n",
       "      <td>0.359923</td>\n",
       "      <td>0.040714</td>\n",
       "      <td>0.123342</td>\n",
       "      <td>44.558673</td>\n",
       "      <td>2.702296</td>\n",
       "      <td>1.161301</td>\n",
       "    </tr>\n",
       "    <tr>\n",
       "      <th>std</th>\n",
       "      <td>0.868181</td>\n",
       "      <td>0.583723</td>\n",
       "      <td>0.810843</td>\n",
       "      <td>0.069101</td>\n",
       "      <td>0.254825</td>\n",
       "      <td>38.315111</td>\n",
       "      <td>5.712921</td>\n",
       "      <td>2.397631</td>\n",
       "    </tr>\n",
       "    <tr>\n",
       "      <th>min</th>\n",
       "      <td>2013.000000</td>\n",
       "      <td>0.000000</td>\n",
       "      <td>0.000000</td>\n",
       "      <td>0.000000</td>\n",
       "      <td>0.000000</td>\n",
       "      <td>-5.000000</td>\n",
       "      <td>-5.000000</td>\n",
       "      <td>0.010000</td>\n",
       "    </tr>\n",
       "    <tr>\n",
       "      <th>25%</th>\n",
       "      <td>2015.000000</td>\n",
       "      <td>0.007500</td>\n",
       "      <td>0.000000</td>\n",
       "      <td>0.000000</td>\n",
       "      <td>0.010000</td>\n",
       "      <td>-5.000000</td>\n",
       "      <td>-5.000000</td>\n",
       "      <td>0.070000</td>\n",
       "    </tr>\n",
       "    <tr>\n",
       "      <th>50%</th>\n",
       "      <td>2015.000000</td>\n",
       "      <td>0.060000</td>\n",
       "      <td>0.080000</td>\n",
       "      <td>0.010000</td>\n",
       "      <td>0.030000</td>\n",
       "      <td>64.500000</td>\n",
       "      <td>6.100000</td>\n",
       "      <td>0.280000</td>\n",
       "    </tr>\n",
       "    <tr>\n",
       "      <th>75%</th>\n",
       "      <td>2016.000000</td>\n",
       "      <td>0.260000</td>\n",
       "      <td>0.300000</td>\n",
       "      <td>0.050000</td>\n",
       "      <td>0.110000</td>\n",
       "      <td>77.000000</td>\n",
       "      <td>7.500000</td>\n",
       "      <td>1.022500</td>\n",
       "    </tr>\n",
       "    <tr>\n",
       "      <th>max</th>\n",
       "      <td>2016.000000</td>\n",
       "      <td>6.030000</td>\n",
       "      <td>6.310000</td>\n",
       "      <td>0.490000</td>\n",
       "      <td>2.380000</td>\n",
       "      <td>97.000000</td>\n",
       "      <td>9.200000</td>\n",
       "      <td>20.490000</td>\n",
       "    </tr>\n",
       "  </tbody>\n",
       "</table>\n",
       "</div>"
      ],
      "text/plain": [
       "       year_of_release    na_sales    eu_sales    jp_sales  other_sales  \\\n",
       "count       392.000000  392.000000  392.000000  392.000000   392.000000   \n",
       "mean       2015.145408    0.277398    0.359923    0.040714     0.123342   \n",
       "std           0.868181    0.583723    0.810843    0.069101     0.254825   \n",
       "min        2013.000000    0.000000    0.000000    0.000000     0.000000   \n",
       "25%        2015.000000    0.007500    0.000000    0.000000     0.010000   \n",
       "50%        2015.000000    0.060000    0.080000    0.010000     0.030000   \n",
       "75%        2016.000000    0.260000    0.300000    0.050000     0.110000   \n",
       "max        2016.000000    6.030000    6.310000    0.490000     2.380000   \n",
       "\n",
       "       critic_score  user_score  sales_total  \n",
       "count    392.000000  392.000000   392.000000  \n",
       "mean      44.558673    2.702296     1.161301  \n",
       "std       38.315111    5.712921     2.397631  \n",
       "min       -5.000000   -5.000000     0.010000  \n",
       "25%       -5.000000   -5.000000     0.070000  \n",
       "50%       64.500000    6.100000     0.280000  \n",
       "75%       77.000000    7.500000     1.022500  \n",
       "max       97.000000    9.200000    20.490000  "
      ]
     },
     "execution_count": 45,
     "metadata": {},
     "output_type": "execute_result"
    }
   ],
   "source": [
    "platforms_potential.query('platform == \"PS4\"').describe()"
   ]
  },
  {
   "cell_type": "code",
   "execution_count": 46,
   "metadata": {},
   "outputs": [
    {
     "data": {
      "text/html": [
       "<div>\n",
       "<style scoped>\n",
       "    .dataframe tbody tr th:only-of-type {\n",
       "        vertical-align: middle;\n",
       "    }\n",
       "\n",
       "    .dataframe tbody tr th {\n",
       "        vertical-align: top;\n",
       "    }\n",
       "\n",
       "    .dataframe thead th {\n",
       "        text-align: right;\n",
       "    }\n",
       "</style>\n",
       "<table border=\"1\" class=\"dataframe\">\n",
       "  <thead>\n",
       "    <tr style=\"text-align: right;\">\n",
       "      <th></th>\n",
       "      <th>year_of_release</th>\n",
       "      <th>na_sales</th>\n",
       "      <th>eu_sales</th>\n",
       "      <th>jp_sales</th>\n",
       "      <th>other_sales</th>\n",
       "      <th>critic_score</th>\n",
       "      <th>user_score</th>\n",
       "      <th>sales_total</th>\n",
       "    </tr>\n",
       "  </thead>\n",
       "  <tbody>\n",
       "    <tr>\n",
       "      <th>count</th>\n",
       "      <td>247.000000</td>\n",
       "      <td>247.000000</td>\n",
       "      <td>247.000000</td>\n",
       "      <td>247.000000</td>\n",
       "      <td>247.000000</td>\n",
       "      <td>247.000000</td>\n",
       "      <td>247.000000</td>\n",
       "      <td>247.000000</td>\n",
       "    </tr>\n",
       "    <tr>\n",
       "      <th>mean</th>\n",
       "      <td>2014.951417</td>\n",
       "      <td>0.377004</td>\n",
       "      <td>0.208866</td>\n",
       "      <td>0.001377</td>\n",
       "      <td>0.057773</td>\n",
       "      <td>48.591093</td>\n",
       "      <td>3.489474</td>\n",
       "      <td>0.853887</td>\n",
       "    </tr>\n",
       "    <tr>\n",
       "      <th>std</th>\n",
       "      <td>0.952995</td>\n",
       "      <td>0.630618</td>\n",
       "      <td>0.365306</td>\n",
       "      <td>0.005153</td>\n",
       "      <td>0.094221</td>\n",
       "      <td>38.019983</td>\n",
       "      <td>5.219909</td>\n",
       "      <td>1.373632</td>\n",
       "    </tr>\n",
       "    <tr>\n",
       "      <th>min</th>\n",
       "      <td>2013.000000</td>\n",
       "      <td>0.000000</td>\n",
       "      <td>0.000000</td>\n",
       "      <td>0.000000</td>\n",
       "      <td>0.000000</td>\n",
       "      <td>-5.000000</td>\n",
       "      <td>-5.000000</td>\n",
       "      <td>0.010000</td>\n",
       "    </tr>\n",
       "    <tr>\n",
       "      <th>25%</th>\n",
       "      <td>2014.000000</td>\n",
       "      <td>0.030000</td>\n",
       "      <td>0.020000</td>\n",
       "      <td>0.000000</td>\n",
       "      <td>0.010000</td>\n",
       "      <td>-5.000000</td>\n",
       "      <td>-5.000000</td>\n",
       "      <td>0.080000</td>\n",
       "    </tr>\n",
       "    <tr>\n",
       "      <th>50%</th>\n",
       "      <td>2015.000000</td>\n",
       "      <td>0.120000</td>\n",
       "      <td>0.070000</td>\n",
       "      <td>0.000000</td>\n",
       "      <td>0.020000</td>\n",
       "      <td>67.000000</td>\n",
       "      <td>6.000000</td>\n",
       "      <td>0.300000</td>\n",
       "    </tr>\n",
       "    <tr>\n",
       "      <th>75%</th>\n",
       "      <td>2016.000000</td>\n",
       "      <td>0.385000</td>\n",
       "      <td>0.220000</td>\n",
       "      <td>0.000000</td>\n",
       "      <td>0.060000</td>\n",
       "      <td>79.000000</td>\n",
       "      <td>7.200000</td>\n",
       "      <td>0.935000</td>\n",
       "    </tr>\n",
       "    <tr>\n",
       "      <th>max</th>\n",
       "      <td>2016.000000</td>\n",
       "      <td>4.590000</td>\n",
       "      <td>2.190000</td>\n",
       "      <td>0.040000</td>\n",
       "      <td>0.680000</td>\n",
       "      <td>97.000000</td>\n",
       "      <td>9.200000</td>\n",
       "      <td>9.500000</td>\n",
       "    </tr>\n",
       "  </tbody>\n",
       "</table>\n",
       "</div>"
      ],
      "text/plain": [
       "       year_of_release    na_sales    eu_sales    jp_sales  other_sales  \\\n",
       "count       247.000000  247.000000  247.000000  247.000000   247.000000   \n",
       "mean       2014.951417    0.377004    0.208866    0.001377     0.057773   \n",
       "std           0.952995    0.630618    0.365306    0.005153     0.094221   \n",
       "min        2013.000000    0.000000    0.000000    0.000000     0.000000   \n",
       "25%        2014.000000    0.030000    0.020000    0.000000     0.010000   \n",
       "50%        2015.000000    0.120000    0.070000    0.000000     0.020000   \n",
       "75%        2016.000000    0.385000    0.220000    0.000000     0.060000   \n",
       "max        2016.000000    4.590000    2.190000    0.040000     0.680000   \n",
       "\n",
       "       critic_score  user_score  sales_total  \n",
       "count    247.000000  247.000000   247.000000  \n",
       "mean      48.591093    3.489474     0.853887  \n",
       "std       38.019983    5.219909     1.373632  \n",
       "min       -5.000000   -5.000000     0.010000  \n",
       "25%       -5.000000   -5.000000     0.080000  \n",
       "50%       67.000000    6.000000     0.300000  \n",
       "75%       79.000000    7.200000     0.935000  \n",
       "max       97.000000    9.200000     9.500000  "
      ]
     },
     "execution_count": 46,
     "metadata": {},
     "output_type": "execute_result"
    }
   ],
   "source": [
    "platforms_potential.query('platform == \"XOne\"').describe()"
   ]
  },
  {
   "cell_type": "markdown",
   "metadata": {},
   "source": [
    "У PS4 среднее количество проданных копий - 1,37 млн, а у XOne - 0,85 млн. Но максимальное количество проданных копий у PS4 почти в два раза больше. Возможно, этот выброс зависит от какой-то конкретной топовой игры. Эти максимальные значения могут сильно портить наше среднее, а вот если смотреть на медиану, то у обоих платформ она почти одинаковая, и у PS4 она даже меньше (0,28млн.), чем у XOne (0,3млн.)."
   ]
  },
  
  {
   "cell_type": "markdown",
   "metadata": {},
   "source": [
    "**Посмотрите, как влияют на продажи внутри одной популярной платформы отзывы пользователей и критиков. Постройте диаграмму рассеяния и посчитайте корреляцию между отзывами и продажами.**"
   ]
  },
  {
   "cell_type": "markdown",
   "metadata": {},
   "source": [
    "Чтобы посмотреть зависимость, нам нужно посмотреть на коэффициент корреляциии. Для этого мы сначала разделим наши платформы на два отдельных среза:"
   ]
  },
  {
   "cell_type": "code",
   "execution_count": 80,
   "metadata": {},
   "outputs": [],
   "source": [
    "ps4 = platforms_potential.query('platform == \"PS4\" and user_score != -5 and critic_score != -5 and sales_total != -5')      \n",
    "xone = platforms_potential.query('platform == \"XOne\" and user_score != -5 and critic_score != -5 and sales_total != -5')"
   ]
  },
  
  {
   "cell_type": "markdown",
   "metadata": {},
   "source": [
    "Изучим PS4:"
   ]
  },
  {
   "cell_type": "code",
   "execution_count": 81,
   "metadata": {},
   "outputs": [
    {
     "data": {
      "text/html": [
       "<div>\n",
       "<style scoped>\n",
       "    .dataframe tbody tr th:only-of-type {\n",
       "        vertical-align: middle;\n",
       "    }\n",
       "\n",
       "    .dataframe tbody tr th {\n",
       "        vertical-align: top;\n",
       "    }\n",
       "\n",
       "    .dataframe thead th {\n",
       "        text-align: right;\n",
       "    }\n",
       "</style>\n",
       "<table border=\"1\" class=\"dataframe\">\n",
       "  <thead>\n",
       "    <tr style=\"text-align: right;\">\n",
       "      <th></th>\n",
       "      <th>user_score</th>\n",
       "      <th>critic_score</th>\n",
       "      <th>sales_total</th>\n",
       "    </tr>\n",
       "  </thead>\n",
       "  <tbody>\n",
       "    <tr>\n",
       "      <th>user_score</th>\n",
       "      <td>1.000000</td>\n",
       "      <td>0.557654</td>\n",
       "      <td>-0.040030</td>\n",
       "    </tr>\n",
       "    <tr>\n",
       "      <th>critic_score</th>\n",
       "      <td>0.557654</td>\n",
       "      <td>1.000000</td>\n",
       "      <td>0.389265</td>\n",
       "    </tr>\n",
       "    <tr>\n",
       "      <th>sales_total</th>\n",
       "      <td>-0.040030</td>\n",
       "      <td>0.389265</td>\n",
       "      <td>1.000000</td>\n",
       "    </tr>\n",
       "  </tbody>\n",
       "</table>\n",
       "</div>"
      ],
      "text/plain": [
       "              user_score  critic_score  sales_total\n",
       "user_score      1.000000      0.557654    -0.040030\n",
       "critic_score    0.557654      1.000000     0.389265\n",
       "sales_total    -0.040030      0.389265     1.000000"
      ]
     },
     "execution_count": 81,
     "metadata": {},
     "output_type": "execute_result"
    }
   ],
   "source": [
    "feedback = ['user_score', 'critic_score', 'sales_total']\n",
    "ps4[feedback].corr()"
   ]
  },
  {
   "cell_type": "code",
   "execution_count": 82,
   "metadata": {},
   "outputs": [
    {
     "data": {
      "image/png": "[encoded data removed]",
      "text/plain": [
       "<Figure size 720x360 with 1 Axes>"
      ]
     },
     "metadata": {
      "needs_background": "light"
     },
     "output_type": "display_data"
    }
   ],
   "source": [
    "(ps4\n",
    "     .plot(kind='scatter', x='user_score', y='sales_total', \n",
    "     title='PS4. Зависимость оценки пользователя и продаж', figsize = (10, 5), color = 'red')\n",
    ");"
   ]
  },
  {
   "cell_type": "code",
   "execution_count": 83,
   "metadata": {},
   "outputs": [
    {
     "data": {
      "image/png": "[encoded data removed]",
      "text/plain": [
       "<Figure size 720x360 with 1 Axes>"
      ]
     },
     "metadata": {
      "needs_background": "light"
     },
     "output_type": "display_data"
    }
   ],
   "source": [
    "(ps4\n",
    "     .plot(x = 'critic_score', y = 'sales_total', \n",
    "           kind='scatter', title='PS4. Зависимость оценки критиков и продаж', \n",
    "           figsize = (10, 5), color = 'red')\n",
    ");"
   ]
  },
  {
   "cell_type": "markdown",
   "metadata": {},
   "source": [
    "Изучим XOne:"
   ]
  },
  {
   "cell_type": "code",
   "execution_count": 84,
   "metadata": {},
   "outputs": [
    {
     "data": {
      "text/html": [
       "<div>\n",
       "<style scoped>\n",
       "    .dataframe tbody tr th:only-of-type {\n",
       "        vertical-align: middle;\n",
       "    }\n",
       "\n",
       "    .dataframe tbody tr th {\n",
       "        vertical-align: top;\n",
       "    }\n",
       "\n",
       "    .dataframe thead th {\n",
       "        text-align: right;\n",
       "    }\n",
       "</style>\n",
       "<table border=\"1\" class=\"dataframe\">\n",
       "  <thead>\n",
       "    <tr style=\"text-align: right;\">\n",
       "      <th></th>\n",
       "      <th>user_score</th>\n",
       "      <th>critic_score</th>\n",
       "      <th>sales_total</th>\n",
       "    </tr>\n",
       "  </thead>\n",
       "  <tbody>\n",
       "    <tr>\n",
       "      <th>user_score</th>\n",
       "      <td>1.000000</td>\n",
       "      <td>0.472462</td>\n",
       "      <td>-0.091516</td>\n",
       "    </tr>\n",
       "    <tr>\n",
       "      <th>critic_score</th>\n",
       "      <td>0.472462</td>\n",
       "      <td>1.000000</td>\n",
       "      <td>0.411427</td>\n",
       "    </tr>\n",
       "    <tr>\n",
       "      <th>sales_total</th>\n",
       "      <td>-0.091516</td>\n",
       "      <td>0.411427</td>\n",
       "      <td>1.000000</td>\n",
       "    </tr>\n",
       "  </tbody>\n",
       "</table>\n",
       "</div>"
      ],
      "text/plain": [
       "              user_score  critic_score  sales_total\n",
       "user_score      1.000000      0.472462    -0.091516\n",
       "critic_score    0.472462      1.000000     0.411427\n",
       "sales_total    -0.091516      0.411427     1.000000"
      ]
     },
     "execution_count": 84,
     "metadata": {},
     "output_type": "execute_result"
    }
   ],
   "source": [
    "xone[feedback].corr()"
   ]
  },
  {
   "cell_type": "code",
   "execution_count": 85,
   "metadata": {},
   "outputs": [
    {
     "data": {
      "image/png": "[encoded data removed]",
      "text/plain": [
       "<Figure size 720x360 with 1 Axes>"
      ]
     },
     "metadata": {
      "needs_background": "light"
     },
     "output_type": "display_data"
    }
   ],
   "source": [
    "(xone\n",
    "    .plot(x = 'user_score', y = 'sales_total', \n",
    "          kind='scatter', title='XOne. Зависимость оценки пользователя и продаж', \n",
    "          figsize = (10, 5), color = 'blue')\n",
    ");"
   ]
  },
  {
   "cell_type": "code",
   "execution_count": 86,
   "metadata": {},
   "outputs": [
    {
     "data": {
      "image/png": "[encoded data removed]",
      "text/plain": [
       "<Figure size 720x360 with 1 Axes>"
      ]
     },
     "metadata": {
      "needs_background": "light"
     },
     "output_type": "display_data"
    }
   ],
   "source": [
    "(xone\n",
    "    .plot(x = 'critic_score', y = 'sales_total', \n",
    "    kind='scatter', title='XOne. Зависимость оценки критиков и продаж', \n",
    "    figsize = (10, 5), color = 'blue')\n",
    ");"
   ]
  },
  {
   "cell_type": "markdown",
   "metadata": {},
   "source": [
    "У обеих платформ мы видим, что коэффециенты Пирсона ближе к '0', чем к единице, из чего можно сделать вывод, что отзывы критиков и пользователей почти никак не влияют на продажи. Вполне возможно, что это связано с предыдущим опытом пользователей, у которых есть кредит доверия к платформе, за счет которого они готовы приобретать новые продукты. То есть пользователь будет опираться больше на свой опыт и впечатления, чем на отзывы. Глядя на графики мы видим, что зависимость продаж от отзывов критиков есть, но нельзя точно утверждать, что эта зависимость линейная. Зато мы видим единогласность отзывов пользователей и отзывов критиков - у них коэффициент корреляции почти =1. "
   ]
  },
  
  {
   "cell_type": "markdown",
   "metadata": {},
   "source": [
    "**Посмотрите на общее распределение игр по жанрам.**"
   ]
  },
  {
   "cell_type": "code",
   "execution_count": 89,
   "metadata": {},
   "outputs": [
    {
     "data": {
      "image/png": "[encoded data removed]",
      "text/plain": [
       "<Figure size 720x360 with 1 Axes>"
      ]
     },
     "metadata": {
      "needs_background": "light"
     },
     "output_type": "display_data"
    }
   ],
   "source": [
    "(platforms_potential\n",
    "    .pivot_table(index = 'genre', values = 'sales_total')\n",
    "    .sort_values('sales_total', ascending = False)\n",
    "    .plot(kind='bar', y='sales_total', figsize=(10, 5), title = 'Распределение продаж по жанрам')\n",
    "    );"
   ]
  },
  {
   "cell_type": "markdown",
   "metadata": {},
   "source": [
    "Из графика видно, что с большим отрывом в продажах лидируют шутеры. К самым прибыльным я бы еще отнесла Спорт и, с почти одинаковым количеством продаж: Гонки, ролевые игры и экшены. Меньше всего продаж у пазлов. Было бы странно покупать себе дорогую игровую консоль для того, чтобы собирать пазлы, чаще их можно пособирать и бесплатно и, вполне вероятно, это можно отнести к детскому развивающему контенту. То есть, в пазлы играют дети тех детей постарше, кто играет в шутеры:)"
   ]
  },
  {
   "cell_type": "markdown",
   "metadata": {},
   "source": [
    "### Составьте портрет пользователя каждого региона"
   ]
  },
  {
   "cell_type": "code",
   "execution_count": 90,
   "metadata": {},
   "outputs": [],
   "source": [
    "regions = ['na_sales','eu_sales','jp_sales']"
   ]
  },
  {
   "cell_type": "markdown",
   "metadata": {},
   "source": [
    "**Самые популярные платформы (топ-5)**"
   ]
  },
  {
   "cell_type": "code",
   "execution_count": 125,
   "metadata": {},
   "outputs": [
    {
     "data": {
      "image/png": "[encoded data removed]",
      "text/plain": [
       "<Figure size 432x432 with 1 Axes>"
      ]
     },
     "metadata": {},
     "output_type": "display_data"
    },
    {
     "data": {
      "image/png": "[encoded data removed]",
      "text/plain": [
       "<Figure size 432x432 with 1 Axes>"
      ]
     },
     "metadata": {},
     "output_type": "display_data"
    },
    {
     "data": {
      "image/png": "[encoded data removed]",
      "text/plain": [
       "<Figure size 432x432 with 1 Axes>"
      ]
     },
     "metadata": {},
     "output_type": "display_data"
    }
   ],
   "source": [
    "#fig, ((ax0, ax1, ax2)) = plt.subplots(nrows=1, ncols=3)\n",
    "\n",
    "for index in regions:\n",
    "    (platforms_actual.\n",
    "     pivot_table(index = 'platform', values = index, aggfunc='sum')\n",
    "     .sort_values(index, ascending=False).head(5)\n",
    "     .plot(kind='pie', autopct='%1.0f%%', y = index, figsize=(6, 6), legend = False, title = index)\n",
    "    )"
   ]
  },
  
  
  {
   "cell_type": "markdown",
   "metadata": {},
   "source": [
    "Для Северной Америки самой популярной платформой является X360,\n",
    "\n",
    "Для Европы - PS4,\n",
    "\n",
    "А в Японии с большим отрывом - 3DS, а вот PS4 там совсем не популярна (в разрезе топ-5). \n",
    "\n",
    "Кроме того, в Японии в топ-5 просочились WiiU и PSV, которых не было в выборке по Европе и Америке. Заглянув в гугл мы видим, что 3DS и WiiU - это Nintendo, который произведен в Японии. Правда PlayStation тоже японские, но на Родине почему-то не прижились. Есть версия, что Нинтендо может выезжать за счет всякого рода портативных устройств, что в условиях Японии более актуально, но возможно и нет. \n",
    "\n",
    "Из всего вышесказанного можно сделать вывод о том, что самыми патриотичными пользователями являются американцы и японцы, пора европейцам (в т.ч. нам) придумать что-то свое."
   ]
  },
  {
   "cell_type": "markdown",
   "metadata": {},
   "source": [
    "**Самые популярные жанры (топ-5)**"
   ]
  },
  {
   "cell_type": "code",
   "execution_count": 127,
   "metadata": {},
   "outputs": [
    {
     "data": {
      "image/png": "[encoded data removed]",
      "text/plain": [
       "<Figure size 432x432 with 1 Axes>"
      ]
     },
     "metadata": {},
     "output_type": "display_data"
    },
    {
     "data": {
      "image/png": "[encoded data removed]",
      "text/plain": [
       "<Figure size 432x432 with 1 Axes>"
      ]
     },
     "metadata": {},
     "output_type": "display_data"
    },
    {
     "data": {
      "image/png": "[encoded data removed]",
      "text/plain": [
       "<Figure size 432x432 with 1 Axes>"
      ]
     },
     "metadata": {},
     "output_type": "display_data"
    }
   ],
   "source": [
    "for index in regions:\n",
    "    (platforms_actual\n",
    "         .pivot_table(index = 'genre', values = index, aggfunc='sum')\n",
    "         .sort_values(index, ascending=False).head(5)\n",
    "         .plot(kind='pie', autopct='%1.0f%%', y = index, figsize=(6, 6), legend = False, title = index)\n",
    "    )"
   ]
  },
  {
   "cell_type": "markdown",
   "metadata": {},
   "source": [
    "В Северной Америке любят стрелялки и экшены, причем не только в играх. Европа чуть более миролюбива, но вот до Японцев нам всем еще очень далеко."
   ]
  },
  
  {
   "cell_type": "markdown",
   "metadata": {},
   "source": [
    "**Влияет ли рейтинг ESRB на продажи в отдельном регионе?**"
   ]
  },
  {
   "cell_type": "code",
   "execution_count": null,
   "metadata": {},
   "outputs": [],
   "source": [
    "for index in regions:\n",
    "    (platforms_actual\n",
    "         .pivot_table(index = 'rating', values = index, aggfunc='sum')\n",
    "         .sort_values(index, ascending=False).head(5)\n",
    "         .plot(kind='pie', autopct='%1.0f%%', y = index, figsize=(6, 6), legend = False, title = index)\n",
    "    )"
   ]
  },
  {
   "cell_type": "markdown",
   "metadata": {},
   "source": [
    "Мы видим, что организация ESRB не очень любит Японию. И правда:\n",
    "\n",
    "_\"Негосударственная организация, основное направление деятельности - принятие и определение рейтингов для компьютерных видеоигр и другого развлекательного программного обеспечения в США и Канаде.\"(с)_\n",
    "\n",
    "Тем не менее она умудрилась присвоить рейтинги тем играм, которые (по всей видимости) выходят одновременно на американо-европейских континентах и в Японии. Уж очень японский блин коррелирует с популярностью платформ в этой загадочной стране."
   ]
  },
  
  {
   "cell_type": "markdown",
   "metadata": {},
   "source": [
    "Из приведенных графиков рисуются следующие портреты пользователей:\n",
    "- В Северной Америке в основном играют люди категории М (17+) и Е (все) в шутеры и экшены преимущественно на Xbox от Microsoft.\n",
    "- В Европе те же самые люди играют в то же самое, только на PlayStation.\n",
    "- В Японии же какие-то непонятные люди играют на чем-то своем в ролевые игры:) ох уж эти японцы!"
   ]
  },
  {
   "cell_type": "markdown",
   "metadata": {},
   "source": [
    "### Проверьте гипотезы"
   ]
  },
  
  {
   "cell_type": "markdown",
   "metadata": {},
   "source": [
    "Для проверки гипотез нам подходит метод `st.ttest_ind`, потому что для сравнения мы берем две независящие друг от друга выборки и сравниваем их среднее."
   ]
  },
  {
   "cell_type": "markdown",
   "metadata": {},
   "source": [
    "H0: Средние пользовательские рейтинги платформ Xbox One и PC одинаковые.\n",
    "\n",
    "\n",
    "H1: Средние пользовательские рейтинги платформ Xbox One и PC разные."
   ]
  },
  {
   "cell_type": "markdown",
   "metadata": {},
   "source": [
    "Выделим две выборки для сравнения:"
   ]
  },
  {
   "cell_type": "code",
   "execution_count": 128,
   "metadata": {},
   "outputs": [
    {
     "name": "stdout",
     "output_type": "stream",
     "text": [
      "Дисперсия выборки Xbox One 1.8965188383045526\n",
      "Дисперсия выборки PC 2.7569952398906588\n"
     ]
    }
   ],
   "source": [
    "xbox = platforms_actual.query('platform == \"XOne\" and user_score != -5')\n",
    "pc = platforms_actual.query('platform == \"PC\" and user_score != -5')\n",
    "\n",
    "print(\"Дисперсия выборки Xbox One\", np.var(xbox['user_score']))\n",
    "print(\"Дисперсия выборки PC\", np.var(pc['user_score']))"
   ]
  },
  {
   "cell_type": "code",
   "execution_count": 131,
   "metadata": {},
   "outputs": [
    {
     "name": "stdout",
     "output_type": "stream",
     "text": [
      "p-значение: 0.5489537965134912\n",
      "Не получилось отвергнуть нулевую гипотезу\n"
     ]
    }
   ],
   "source": [
    "alpha = 0.05\n",
    "\n",
    "results = st.ttest_ind(\n",
    "    xbox['user_score'],\n",
    "    pc['user_score'],\n",
    "    equal_var=False \n",
    ")\n",
    "\n",
    "print('p-значение:', results.pvalue)\n",
    "\n",
    "if (results.pvalue < alpha):\n",
    "    print(\"Отвергаем нулевую гипотезу\")\n",
    "else:\n",
    "    print(\"Не получилось отвергнуть нулевую гипотезу\")"
   ]
  },
  {
   "cell_type": "markdown",
   "metadata": {},
   "source": [
    "P-значение нам говорит о том, что с вероятностью примерно 55% различие рейтингов на этих двух платформах можно получить случайно. Такая пограничная цифра, которую можно трактовать и так, что с почти с таким же процентом различие может быть и не случайным. Поскольку нет никакой однозначности, то нулевую гипотезу не опровергаем и проверяем ее по-человечески:"
   ]
  },
  {
   "cell_type": "code",
   "execution_count": 132,
   "metadata": {},
   "outputs": [
    {
     "data": {
      "text/plain": [
       "6.521428571428572"
      ]
     },
     "execution_count": 132,
     "metadata": {},
     "output_type": "execute_result"
    }
   ],
   "source": [
    "xbox['user_score'].mean()"
   ]
  },
  {
   "cell_type": "code",
   "execution_count": 133,
   "metadata": {},
   "outputs": [
    {
     "data": {
      "text/plain": [
       "6.4286407766990274"
      ]
     },
     "execution_count": 133,
     "metadata": {},
     "output_type": "execute_result"
    }
   ],
   "source": [
    "pc['user_score'].mean()"
   ]
  },
  {
   "cell_type": "markdown",
   "metadata": {},
   "source": [
    "Такое же небольшое различие, как и в гипотезах. Как гласила нам теория - если не можешь доказать обратное, то оставляй нулевую гипотезу, поэтому считаем, что средние пользовательские рейтинги на этих двух платформах одинаковые."
   ]
  },
  {
   "cell_type": "markdown",
   "metadata": {},
   "source": [
    "Проверка гипотезы:\n",
    "\n",
    "**Средние пользовательские рейтинги жанров Action (англ. «действие», экшен-игры) и Sports (англ. «спортивные соревнования») разные.**"
   ]
  },
  {
   "cell_type": "markdown",
   "metadata": {},
   "source": [
    "H0: Средние пользовательские рейтинги жанров Action и Sports одинаковые.\n",
    "\n",
    "H1: Средние пользовательские рейтинги жанров Action и Sports разные."
   ]
  },
  {
   "cell_type": "code",
   "execution_count": 134,
   "metadata": {},
   "outputs": [
    {
     "name": "stdout",
     "output_type": "stream",
     "text": [
      "Дисперсия выборки action 1.8854720340439224\n",
      "Дисперсия выборки sport 3.0073882971729127\n"
     ]
    }
   ],
   "source": [
    "action = platforms_actual.query('genre == \"Action\" and user_score != -5')\n",
    "sport = platforms_actual.query('genre == \"Sports\" and user_score != -5')\n",
    "\n",
    "print(\"Дисперсия выборки action\",np.var(action['user_score']))\n",
    "print(\"Дисперсия выборки sport\",np.var(sport['user_score']))"
   ]
  },
  {
   "cell_type": "code",
   "execution_count": 135,
   "metadata": {},
   "outputs": [
    {
     "name": "stdout",
     "output_type": "stream",
     "text": [
      "p-значение: 4.24307776572644e-20\n",
      "Отвергаем нулевую гипотезу\n"
     ]
    }
   ],
   "source": [
    "alpha = 0.05\n",
    "\n",
    "results = st.ttest_ind(\n",
    "    action['user_score'],\n",
    "    sport['user_score'],\n",
    "    equal_var=False,\n",
    ")\n",
    "\n",
    "print('p-значение:', results.pvalue)\n",
    "\n",
    "if (results.pvalue < alpha):\n",
    "    print(\"Отвергаем нулевую гипотезу\")\n",
    "else:\n",
    "    print(\"Не получилось отвергнуть нулевую гипотезу\")"
   ]
  },
  {
   "cell_type": "markdown",
   "metadata": {},
   "source": [
    "P-значение нам говорит о том, что разница между наблюдаемым и предполагаемым значением достаточно велика, то есть вероятность её получить случайно очень низкая. Проверяем:"
   ]
  },
  {
   "cell_type": "code",
   "execution_count": 136,
   "metadata": {},
   "outputs": [
    {
     "data": {
      "text/plain": [
       "6.825047801147227"
      ]
     },
     "execution_count": 136,
     "metadata": {},
     "output_type": "execute_result"
    }
   ],
   "source": [
    "action['user_score'].mean()"
   ]
  },
  {
   "cell_type": "code",
   "execution_count": 137,
   "metadata": {},
   "outputs": [
    {
     "data": {
      "text/plain": [
       "5.455897435897437"
      ]
     },
     "execution_count": 137,
     "metadata": {},
     "output_type": "execute_result"
    }
   ],
   "source": [
    "sport['user_score'].mean()"
   ]
  },
  {
   "cell_type": "markdown",
   "metadata": {},
   "source": [
    "Разница в рейтингах, действительно, есть, поэтому мы опровергаем нулевую гипотезу и подтверждаем нашу гипотезу о том, что Средние пользовательские рейтинги жанров Action и Sports разные."
   ]
  },
  
  {
   "cell_type": "markdown",
   "metadata": {},
   "source": [
    "###  Общий вывод"
   ]
  },
  {
   "cell_type": "markdown",
   "metadata": {},
   "source": [
    "Для того, чтобы планировать рекламные кампании и изучать рынок - необходимо определиться, на какую аудиторию она будет расчитана. То есть, если реклама будет для пользователей из Северной Америки, то лучше всего предлагать им шутеры и экшены на Xbox + таргетировать рекламу и по возрастной категории (тут нужны более тонкие настройки для каждой игры конкретнее).\n",
    "\n",
    "Для Европы лучше всего планировать рекламу шутеров и экшенов на PS с точно такой же тонкой настройкой возастных категорий на каждую конкретную карточку игры. Если у нас много денег, то можно и на пазлы настраивать таргетку таким образом, чтобы показывали их тем, кто когда-то ими интересовался:).\n",
    "\n",
    "Для Японии рынок нужно изучить более детально с помощью дополнительных источников. Например, где именно будет проходить эта реклама - наверняка на альтернативных сервисах, которые более популярны в Азии. Изучить особенности этих сервисов. Думаю, что и список названий самих игр, которые будут интересны японской аудитории, тоже надо изучать более детально, а не фигачить только жанры. Аудитория там большая, поэтому упускать этот кусок рынка не хотелось бы, но нужно досконально изучить особенности этого рынка. С пустыми значениями в данных это может обернуться провалом рекламной кампании. Но опираясь на те данные, что у нас есть, мы можем точно сказать, что в Японии лучше всего предлагать Ролевые компьютерные игры и экшены, выпущенные для платформ Nintendo."
   ]
  },
  
  
  
  {
   "cell_type": "code",
   "execution_count": null,
   "metadata": {},
   "outputs": [],
   "source": []
  }
 ],
 "metadata": {
  "ExecuteTimeLog": [
   {
    "duration": 557,
    "start_time": "2022-10-17T20:06:44.046Z"
   },
   {
    "duration": 13,
    "start_time": "2022-10-17T20:09:07.462Z"
   },
   {
    "duration": 61,
    "start_time": "2022-10-17T20:09:48.785Z"
   },
   {
    "duration": 8,
    "start_time": "2022-10-17T20:10:15.445Z"
   },
   {
    "duration": 15,
    "start_time": "2022-10-17T20:13:21.716Z"
   },
   {
    "duration": 10,
    "start_time": "2022-10-17T20:13:37.113Z"
   },
   {
    "duration": 9,
    "start_time": "2022-10-17T20:14:55.156Z"
   },
   {
    "duration": 8,
    "start_time": "2022-10-17T20:15:10.792Z"
   },
   {
    "duration": 16,
    "start_time": "2022-10-17T20:16:35.125Z"
   },
   {
    "duration": 33,
    "start_time": "2022-10-17T20:16:39.065Z"
   },
   {
    "duration": 37,
    "start_time": "2022-10-17T20:17:10.789Z"
   },
   {
    "duration": 7,
    "start_time": "2022-10-17T20:17:25.747Z"
   },
   {
    "duration": 19,
    "start_time": "2022-10-17T20:17:35.475Z"
   },
   {
    "duration": 3,
    "start_time": "2022-10-17T20:17:47.065Z"
   },
   {
    "duration": 7,
    "start_time": "2022-10-17T20:17:51.194Z"
   },
   {
    "duration": 9,
    "start_time": "2022-10-17T20:18:04.044Z"
   },
   {
    "duration": 7,
    "start_time": "2022-10-17T20:18:10.565Z"
   },
   {
    "duration": 7,
    "start_time": "2022-10-17T20:18:15.284Z"
   },
   {
    "duration": 7,
    "start_time": "2022-10-17T20:19:40.733Z"
   },
   {
    "duration": 7,
    "start_time": "2022-10-17T20:20:14.460Z"
   },
   {
    "duration": 448,
    "start_time": "2022-10-17T20:20:23.305Z"
   },
   {
    "duration": 12,
    "start_time": "2022-10-17T20:20:23.755Z"
   },
   {
    "duration": 14,
    "start_time": "2022-10-17T20:20:23.768Z"
   },
   {
    "duration": 21,
    "start_time": "2022-10-17T20:20:23.784Z"
   },
   {
    "duration": 32,
    "start_time": "2022-10-17T20:20:23.807Z"
   },
   {
    "duration": 3,
    "start_time": "2022-10-17T20:20:23.840Z"
   },
   {
    "duration": 3,
    "start_time": "2022-10-17T20:20:29.518Z"
   },
   {
    "duration": 18,
    "start_time": "2022-10-17T20:20:34.582Z"
   },
   {
    "duration": 62,
    "start_time": "2022-10-17T20:25:26.165Z"
   },
   {
    "duration": 12,
    "start_time": "2022-10-17T20:28:14.396Z"
   },
   {
    "duration": 9,
    "start_time": "2022-10-17T20:31:07.581Z"
   },
   {
    "duration": 14,
    "start_time": "2022-10-17T20:31:18.553Z"
   },
   {
    "duration": 56,
    "start_time": "2022-10-18T20:30:42.513Z"
   },
   {
    "duration": 41,
    "start_time": "2022-10-18T20:31:24.441Z"
   },
   {
    "duration": 6,
    "start_time": "2022-10-18T20:31:34.260Z"
   },
   {
    "duration": 493,
    "start_time": "2022-10-18T20:31:44.117Z"
   },
   {
    "duration": 13,
    "start_time": "2022-10-18T20:31:44.612Z"
   },
   {
    "duration": 15,
    "start_time": "2022-10-18T20:31:44.627Z"
   },
   {
    "duration": 8,
    "start_time": "2022-10-18T20:31:44.644Z"
   },
   {
    "duration": 15,
    "start_time": "2022-10-18T20:31:44.654Z"
   },
   {
    "duration": 52,
    "start_time": "2022-10-18T20:31:44.671Z"
   },
   {
    "duration": 22,
    "start_time": "2022-10-18T20:31:44.725Z"
   },
   {
    "duration": 82,
    "start_time": "2022-10-18T20:31:44.749Z"
   },
   {
    "duration": 9,
    "start_time": "2022-10-18T20:32:30.980Z"
   },
   {
    "duration": 10,
    "start_time": "2022-10-18T20:33:14.741Z"
   },
   {
    "duration": 8,
    "start_time": "2022-10-18T20:33:21.668Z"
   },
   {
    "duration": 422,
    "start_time": "2022-10-18T20:33:37.472Z"
   },
   {
    "duration": 13,
    "start_time": "2022-10-18T20:33:37.896Z"
   },
   {
    "duration": 27,
    "start_time": "2022-10-18T20:33:37.910Z"
   },
   {
    "duration": 8,
    "start_time": "2022-10-18T20:33:37.939Z"
   },
   {
    "duration": 8,
    "start_time": "2022-10-18T20:33:37.949Z"
   },
   {
    "duration": 7,
    "start_time": "2022-10-18T20:33:37.959Z"
   },
   {
    "duration": 58,
    "start_time": "2022-10-18T20:33:37.967Z"
   },
   {
    "duration": 25,
    "start_time": "2022-10-18T20:33:38.027Z"
   },
   {
    "duration": 88,
    "start_time": "2022-10-18T20:33:38.053Z"
   },
   {
    "duration": 754,
    "start_time": "2022-10-18T20:36:51.502Z"
   },
   {
    "duration": 468,
    "start_time": "2022-10-18T20:37:15.705Z"
   },
   {
    "duration": 15,
    "start_time": "2022-10-18T20:37:16.175Z"
   },
   {
    "duration": 17,
    "start_time": "2022-10-18T20:37:16.191Z"
   },
   {
    "duration": 19,
    "start_time": "2022-10-18T20:37:16.209Z"
   },
   {
    "duration": 9,
    "start_time": "2022-10-18T20:37:16.230Z"
   },
   {
    "duration": 9,
    "start_time": "2022-10-18T20:37:16.240Z"
   },
   {
    "duration": 96,
    "start_time": "2022-10-18T20:37:16.251Z"
   },
   {
    "duration": 0,
    "start_time": "2022-10-18T20:37:16.349Z"
   },
   {
    "duration": 0,
    "start_time": "2022-10-18T20:37:16.351Z"
   },
   {
    "duration": 26,
    "start_time": "2022-10-18T20:37:42.628Z"
   },
   {
    "duration": 556,
    "start_time": "2022-10-18T20:37:55.714Z"
   },
   {
    "duration": 31,
    "start_time": "2022-10-18T20:38:09.839Z"
   },
   {
    "duration": 7,
    "start_time": "2022-10-18T20:40:57.739Z"
   },
   {
    "duration": 6,
    "start_time": "2022-10-18T20:41:42.982Z"
   },
   {
    "duration": 8,
    "start_time": "2022-10-18T20:42:12.310Z"
   },
   {
    "duration": 41,
    "start_time": "2022-10-18T20:43:42.575Z"
   },
   {
    "duration": 2,
    "start_time": "2022-10-18T20:45:43.404Z"
   },
   {
    "duration": 7,
    "start_time": "2022-10-18T20:47:54.876Z"
   },
   {
    "duration": 14,
    "start_time": "2022-10-18T20:48:07.415Z"
   },
   {
    "duration": 7,
    "start_time": "2022-10-18T20:49:31.991Z"
   },
   {
    "duration": 24,
    "start_time": "2022-10-18T20:49:40.757Z"
   },
   {
    "duration": 92,
    "start_time": "2022-10-18T20:50:27.876Z"
   },
   {
    "duration": 14,
    "start_time": "2022-10-18T20:51:08.415Z"
   },
   {
    "duration": 30,
    "start_time": "2022-10-18T20:51:17.710Z"
   },
   {
    "duration": 25,
    "start_time": "2022-10-18T20:55:28.124Z"
   },
   {
    "duration": 13,
    "start_time": "2022-10-18T20:56:50.369Z"
   },
   {
    "duration": 432,
    "start_time": "2022-10-18T20:57:48.966Z"
   },
   {
    "duration": 21,
    "start_time": "2022-10-18T20:57:49.401Z"
   },
   {
    "duration": 16,
    "start_time": "2022-10-18T20:57:49.424Z"
   },
   {
    "duration": 17,
    "start_time": "2022-10-18T20:57:49.442Z"
   },
   {
    "duration": 9,
    "start_time": "2022-10-18T20:57:49.462Z"
   },
   {
    "duration": 12,
    "start_time": "2022-10-18T20:57:49.473Z"
   },
   {
    "duration": 93,
    "start_time": "2022-10-18T20:57:49.487Z"
   },
   {
    "duration": 0,
    "start_time": "2022-10-18T20:57:49.582Z"
   },
   {
    "duration": 0,
    "start_time": "2022-10-18T20:57:49.583Z"
   },
   {
    "duration": 0,
    "start_time": "2022-10-18T20:57:49.586Z"
   },
   {
    "duration": 0,
    "start_time": "2022-10-18T20:57:49.587Z"
   },
   {
    "duration": 0,
    "start_time": "2022-10-18T20:57:49.588Z"
   },
   {
    "duration": 0,
    "start_time": "2022-10-18T20:57:49.590Z"
   },
   {
    "duration": 0,
    "start_time": "2022-10-18T20:57:49.591Z"
   },
   {
    "duration": 8,
    "start_time": "2022-10-18T20:58:55.289Z"
   },
   {
    "duration": 9,
    "start_time": "2022-10-18T20:59:00.424Z"
   },
   {
    "duration": 788,
    "start_time": "2022-10-18T20:59:29.913Z"
   },
   {
    "duration": 6,
    "start_time": "2022-10-18T20:59:37.776Z"
   },
   {
    "duration": 7,
    "start_time": "2022-10-18T20:59:53.441Z"
   },
   {
    "duration": 9,
    "start_time": "2022-10-18T20:59:55.540Z"
   },
   {
    "duration": 22,
    "start_time": "2022-10-18T20:59:58.047Z"
   },
   {
    "duration": 31,
    "start_time": "2022-10-18T21:05:32.372Z"
   },
   {
    "duration": 35,
    "start_time": "2022-10-18T21:16:17.179Z"
   },
   {
    "duration": 7,
    "start_time": "2022-10-18T21:19:52.680Z"
   },
   {
    "duration": 13,
    "start_time": "2022-10-18T21:20:33.217Z"
   },
   {
    "duration": 16,
    "start_time": "2022-10-18T21:24:47.699Z"
   },
   {
    "duration": 13,
    "start_time": "2022-10-18T21:28:36.346Z"
   },
   {
    "duration": 6,
    "start_time": "2022-10-18T21:31:48.956Z"
   },
   {
    "duration": 12,
    "start_time": "2022-10-18T21:32:07.536Z"
   },
   {
    "duration": 21,
    "start_time": "2022-10-18T21:34:42.521Z"
   },
   {
    "duration": 7,
    "start_time": "2022-10-18T21:36:48.464Z"
   },
   {
    "duration": 16,
    "start_time": "2022-10-18T21:37:14.787Z"
   },
   {
    "duration": 61,
    "start_time": "2022-10-19T20:36:13.375Z"
   },
   {
    "duration": 559,
    "start_time": "2022-10-19T20:36:21.567Z"
   },
   {
    "duration": 21,
    "start_time": "2022-10-19T20:36:22.128Z"
   },
   {
    "duration": 20,
    "start_time": "2022-10-19T20:36:22.151Z"
   },
   {
    "duration": 17,
    "start_time": "2022-10-19T20:36:22.173Z"
   },
   {
    "duration": 33,
    "start_time": "2022-10-19T20:36:22.192Z"
   },
   {
    "duration": 12,
    "start_time": "2022-10-19T20:36:22.228Z"
   },
   {
    "duration": 9,
    "start_time": "2022-10-19T20:36:22.242Z"
   },
   {
    "duration": 9,
    "start_time": "2022-10-19T20:36:22.253Z"
   },
   {
    "duration": 60,
    "start_time": "2022-10-19T20:36:22.264Z"
   },
   {
    "duration": 6,
    "start_time": "2022-10-19T20:36:22.327Z"
   },
   {
    "duration": 25,
    "start_time": "2022-10-19T20:36:22.335Z"
   },
   {
    "duration": 8,
    "start_time": "2022-10-19T20:36:22.361Z"
   },
   {
    "duration": 16,
    "start_time": "2022-10-19T20:36:22.370Z"
   },
   {
    "duration": 37,
    "start_time": "2022-10-19T20:36:22.388Z"
   },
   {
    "duration": 18,
    "start_time": "2022-10-19T20:36:22.427Z"
   },
   {
    "duration": 21,
    "start_time": "2022-10-19T20:36:22.447Z"
   },
   {
    "duration": 53,
    "start_time": "2022-10-19T20:36:22.470Z"
   },
   {
    "duration": 27,
    "start_time": "2022-10-19T20:50:32.537Z"
   },
   {
    "duration": 436,
    "start_time": "2022-10-19T20:50:46.342Z"
   },
   {
    "duration": 12,
    "start_time": "2022-10-19T20:50:46.780Z"
   },
   {
    "duration": 20,
    "start_time": "2022-10-19T20:50:46.794Z"
   },
   {
    "duration": 14,
    "start_time": "2022-10-19T20:50:46.821Z"
   },
   {
    "duration": 7,
    "start_time": "2022-10-19T20:50:46.837Z"
   },
   {
    "duration": 11,
    "start_time": "2022-10-19T20:50:46.846Z"
   },
   {
    "duration": 8,
    "start_time": "2022-10-19T20:50:46.858Z"
   },
   {
    "duration": 9,
    "start_time": "2022-10-19T20:50:46.867Z"
   },
   {
    "duration": 62,
    "start_time": "2022-10-19T20:50:46.879Z"
   },
   {
    "duration": 6,
    "start_time": "2022-10-19T20:50:46.943Z"
   },
   {
    "duration": 24,
    "start_time": "2022-10-19T20:50:46.951Z"
   },
   {
    "duration": 6,
    "start_time": "2022-10-19T20:50:46.977Z"
   },
   {
    "duration": 16,
    "start_time": "2022-10-19T20:50:46.984Z"
   },
   {
    "duration": 21,
    "start_time": "2022-10-19T20:50:47.002Z"
   },
   {
    "duration": 12,
    "start_time": "2022-10-19T20:50:47.024Z"
   },
   {
    "duration": 17,
    "start_time": "2022-10-19T20:50:47.038Z"
   },
   {
    "duration": 33,
    "start_time": "2022-10-19T20:50:47.057Z"
   },
   {
    "duration": 57,
    "start_time": "2022-10-19T20:53:57.518Z"
   },
   {
    "duration": 7,
    "start_time": "2022-10-19T20:54:16.912Z"
   },
   {
    "duration": 8,
    "start_time": "2022-10-19T20:56:22.758Z"
   },
   {
    "duration": 14,
    "start_time": "2022-10-19T20:57:04.921Z"
   },
   {
    "duration": 23,
    "start_time": "2022-10-19T20:57:17.783Z"
   },
   {
    "duration": 485,
    "start_time": "2022-10-19T21:01:08.820Z"
   },
   {
    "duration": 135,
    "start_time": "2022-10-19T21:01:47.696Z"
   },
   {
    "duration": 125,
    "start_time": "2022-10-19T21:03:08.074Z"
   },
   {
    "duration": 8,
    "start_time": "2022-10-19T21:05:48.861Z"
   },
   {
    "duration": 122,
    "start_time": "2022-10-19T21:06:42.985Z"
   },
   {
    "duration": 308,
    "start_time": "2022-10-19T21:07:42.651Z"
   },
   {
    "duration": 254,
    "start_time": "2022-10-19T21:08:06.638Z"
   },
   {
    "duration": 585,
    "start_time": "2022-10-20T20:02:54.931Z"
   },
   {
    "duration": 13,
    "start_time": "2022-10-20T20:02:55.517Z"
   },
   {
    "duration": 20,
    "start_time": "2022-10-20T20:02:55.532Z"
   },
   {
    "duration": 16,
    "start_time": "2022-10-20T20:02:55.554Z"
   },
   {
    "duration": 8,
    "start_time": "2022-10-20T20:02:55.571Z"
   },
   {
    "duration": 10,
    "start_time": "2022-10-20T20:02:55.580Z"
   },
   {
    "duration": 31,
    "start_time": "2022-10-20T20:02:55.591Z"
   },
   {
    "duration": 8,
    "start_time": "2022-10-20T20:02:55.623Z"
   },
   {
    "duration": 36,
    "start_time": "2022-10-20T20:02:55.633Z"
   },
   {
    "duration": 5,
    "start_time": "2022-10-20T20:02:55.671Z"
   },
   {
    "duration": 45,
    "start_time": "2022-10-20T20:02:55.678Z"
   },
   {
    "duration": 6,
    "start_time": "2022-10-20T20:02:55.724Z"
   },
   {
    "duration": 14,
    "start_time": "2022-10-20T20:02:55.731Z"
   },
   {
    "duration": 4,
    "start_time": "2022-10-20T20:02:55.747Z"
   },
   {
    "duration": 12,
    "start_time": "2022-10-20T20:02:55.753Z"
   },
   {
    "duration": 15,
    "start_time": "2022-10-20T20:02:55.766Z"
   },
   {
    "duration": 54,
    "start_time": "2022-10-20T20:02:55.782Z"
   },
   {
    "duration": 547,
    "start_time": "2022-10-20T20:02:55.837Z"
   },
   {
    "duration": 249,
    "start_time": "2022-10-20T20:02:56.386Z"
   },
   {
    "duration": 0,
    "start_time": "2022-10-20T20:22:04.833Z"
   },
   {
    "duration": 7,
    "start_time": "2022-10-20T20:22:32.700Z"
   },
   {
    "duration": 8,
    "start_time": "2022-10-20T20:28:30.375Z"
   },
   {
    "duration": 149,
    "start_time": "2022-10-20T20:32:00.219Z"
   },
   {
    "duration": 148,
    "start_time": "2022-10-20T20:32:12.106Z"
   },
   {
    "duration": 118,
    "start_time": "2022-10-20T20:32:36.219Z"
   },
   {
    "duration": 6,
    "start_time": "2022-10-20T20:32:51.466Z"
   },
   {
    "duration": 12,
    "start_time": "2022-10-20T20:33:04.028Z"
   },
   {
    "duration": 101,
    "start_time": "2022-10-20T20:33:17.135Z"
   },
   {
    "duration": 328,
    "start_time": "2022-10-20T20:33:24.584Z"
   },
   {
    "duration": 7,
    "start_time": "2022-10-20T20:34:59.254Z"
   },
   {
    "duration": 3,
    "start_time": "2022-10-20T20:35:14.049Z"
   },
   {
    "duration": 6,
    "start_time": "2022-10-20T20:35:28.383Z"
   },
   {
    "duration": 16,
    "start_time": "2022-10-20T20:39:03.661Z"
   },
   {
    "duration": 139,
    "start_time": "2022-10-20T20:39:19.733Z"
   },
   {
    "duration": 124,
    "start_time": "2022-10-20T20:41:00.888Z"
   },
   {
    "duration": 175,
    "start_time": "2022-10-20T20:41:26.557Z"
   },
   {
    "duration": 174,
    "start_time": "2022-10-20T20:41:43.536Z"
   },
   {
    "duration": 31,
    "start_time": "2022-10-20T20:45:58.719Z"
   },
   {
    "duration": 185,
    "start_time": "2022-10-20T20:46:28.098Z"
   },
   {
    "duration": 235,
    "start_time": "2022-10-20T20:48:05.775Z"
   },
   {
    "duration": 20,
    "start_time": "2022-10-20T20:48:23.680Z"
   },
   {
    "duration": 216,
    "start_time": "2022-10-20T20:48:37.688Z"
   },
   {
    "duration": 188,
    "start_time": "2022-10-20T20:49:58.572Z"
   },
   {
    "duration": 456,
    "start_time": "2022-10-20T20:50:17.298Z"
   },
   {
    "duration": 13,
    "start_time": "2022-10-20T20:50:17.756Z"
   },
   {
    "duration": 25,
    "start_time": "2022-10-20T20:50:17.771Z"
   },
   {
    "duration": 32,
    "start_time": "2022-10-20T20:50:17.799Z"
   },
   {
    "duration": 11,
    "start_time": "2022-10-20T20:50:17.832Z"
   },
   {
    "duration": 22,
    "start_time": "2022-10-20T20:50:17.844Z"
   },
   {
    "duration": 9,
    "start_time": "2022-10-20T20:50:17.867Z"
   },
   {
    "duration": 21,
    "start_time": "2022-10-20T20:50:17.878Z"
   },
   {
    "duration": 35,
    "start_time": "2022-10-20T20:50:17.900Z"
   },
   {
    "duration": 5,
    "start_time": "2022-10-20T20:50:17.937Z"
   },
   {
    "duration": 22,
    "start_time": "2022-10-20T20:50:17.944Z"
   },
   {
    "duration": 7,
    "start_time": "2022-10-20T20:50:17.967Z"
   },
   {
    "duration": 13,
    "start_time": "2022-10-20T20:50:17.975Z"
   },
   {
    "duration": 5,
    "start_time": "2022-10-20T20:50:17.989Z"
   },
   {
    "duration": 34,
    "start_time": "2022-10-20T20:50:17.995Z"
   },
   {
    "duration": 22,
    "start_time": "2022-10-20T20:50:18.031Z"
   },
   {
    "duration": 21,
    "start_time": "2022-10-20T20:50:18.055Z"
   },
   {
    "duration": 350,
    "start_time": "2022-10-20T20:50:18.077Z"
   },
   {
    "duration": 15,
    "start_time": "2022-10-20T20:50:18.428Z"
   },
   {
    "duration": 277,
    "start_time": "2022-10-20T20:50:18.444Z"
   },
   {
    "duration": 5,
    "start_time": "2022-10-20T20:50:18.723Z"
   },
   {
    "duration": 196,
    "start_time": "2022-10-20T20:50:18.729Z"
   },
   {
    "duration": 195,
    "start_time": "2022-10-20T20:52:01.519Z"
   },
   {
    "duration": 299,
    "start_time": "2022-10-20T20:53:43.248Z"
   },
   {
    "duration": 262,
    "start_time": "2022-10-20T20:54:56.563Z"
   },
   {
    "duration": 6,
    "start_time": "2022-10-20T21:14:33.903Z"
   },
   {
    "duration": 18,
    "start_time": "2022-10-20T21:19:18.220Z"
   },
   {
    "duration": 91,
    "start_time": "2022-10-20T21:20:25.312Z"
   },
   {
    "duration": 161,
    "start_time": "2022-10-20T21:20:33.872Z"
   },
   {
    "duration": 285,
    "start_time": "2022-10-20T21:25:35.959Z"
   },
   {
    "duration": 148,
    "start_time": "2022-10-20T21:37:00.506Z"
   },
   {
    "duration": 75,
    "start_time": "2022-10-20T21:37:24.811Z"
   },
   {
    "duration": 66,
    "start_time": "2022-10-20T21:37:29.403Z"
   },
   {
    "duration": 7,
    "start_time": "2022-10-20T21:37:52.805Z"
   },
   {
    "duration": 7,
    "start_time": "2022-10-20T21:38:30.690Z"
   },
   {
    "duration": 198,
    "start_time": "2022-10-20T21:39:19.715Z"
   },
   {
    "duration": 5,
    "start_time": "2022-10-20T21:39:29.848Z"
   },
   {
    "duration": 431,
    "start_time": "2022-10-20T21:39:34.654Z"
   },
   {
    "duration": 402,
    "start_time": "2022-10-20T21:39:59.278Z"
   },
   {
    "duration": 12,
    "start_time": "2022-10-20T21:50:00.020Z"
   },
   {
    "duration": 607,
    "start_time": "2022-10-20T21:51:21.314Z"
   },
   {
    "duration": 42,
    "start_time": "2022-10-20T21:51:29.875Z"
   },
   {
    "duration": 195,
    "start_time": "2022-10-20T21:51:46.297Z"
   },
   {
    "duration": 221,
    "start_time": "2022-10-20T21:52:00.951Z"
   },
   {
    "duration": 264,
    "start_time": "2022-10-20T21:54:18.850Z"
   },
   {
    "duration": 226,
    "start_time": "2022-10-20T21:58:24.416Z"
   },
   {
    "duration": 199,
    "start_time": "2022-10-20T21:58:30.308Z"
   },
   {
    "duration": 104,
    "start_time": "2022-10-20T21:58:48.565Z"
   },
   {
    "duration": 101,
    "start_time": "2022-10-20T21:58:55.153Z"
   },
   {
    "duration": 117,
    "start_time": "2022-10-20T21:59:35.512Z"
   },
   {
    "duration": 147,
    "start_time": "2022-10-20T21:59:40.811Z"
   },
   {
    "duration": 136,
    "start_time": "2022-10-20T21:59:52.165Z"
   },
   {
    "duration": 224,
    "start_time": "2022-10-20T22:00:25.459Z"
   },
   {
    "duration": 142,
    "start_time": "2022-10-20T22:00:47.710Z"
   },
   {
    "duration": 135,
    "start_time": "2022-10-20T22:02:14.559Z"
   },
   {
    "duration": 13,
    "start_time": "2022-10-20T22:04:33.286Z"
   },
   {
    "duration": 21,
    "start_time": "2022-10-20T22:04:48.885Z"
   },
   {
    "duration": 21,
    "start_time": "2022-10-20T22:05:56.211Z"
   },
   {
    "duration": 1171,
    "start_time": "2022-10-20T22:06:12.418Z"
   },
   {
    "duration": 11,
    "start_time": "2022-10-20T22:06:13.591Z"
   },
   {
    "duration": 50,
    "start_time": "2022-10-20T22:06:13.603Z"
   },
   {
    "duration": 29,
    "start_time": "2022-10-20T22:06:13.655Z"
   },
   {
    "duration": 13,
    "start_time": "2022-10-20T22:06:13.685Z"
   },
   {
    "duration": 18,
    "start_time": "2022-10-20T22:06:13.700Z"
   },
   {
    "duration": 22,
    "start_time": "2022-10-20T22:06:13.720Z"
   },
   {
    "duration": 11,
    "start_time": "2022-10-20T22:06:13.743Z"
   },
   {
    "duration": 37,
    "start_time": "2022-10-20T22:06:13.755Z"
   },
   {
    "duration": 6,
    "start_time": "2022-10-20T22:06:13.794Z"
   },
   {
    "duration": 31,
    "start_time": "2022-10-20T22:06:13.801Z"
   },
   {
    "duration": 9,
    "start_time": "2022-10-20T22:06:13.833Z"
   },
   {
    "duration": 35,
    "start_time": "2022-10-20T22:06:13.843Z"
   },
   {
    "duration": 31,
    "start_time": "2022-10-20T22:06:13.880Z"
   },
   {
    "duration": 32,
    "start_time": "2022-10-20T22:06:13.913Z"
   },
   {
    "duration": 16,
    "start_time": "2022-10-20T22:06:13.946Z"
   },
   {
    "duration": 22,
    "start_time": "2022-10-20T22:06:13.964Z"
   },
   {
    "duration": 153,
    "start_time": "2022-10-20T22:06:13.988Z"
   },
   {
    "duration": 14,
    "start_time": "2022-10-20T22:06:14.142Z"
   },
   {
    "duration": 269,
    "start_time": "2022-10-20T22:06:14.157Z"
   },
   {
    "duration": 11,
    "start_time": "2022-10-20T22:06:14.427Z"
   },
   {
    "duration": 270,
    "start_time": "2022-10-20T22:06:14.439Z"
   },
   {
    "duration": 165,
    "start_time": "2022-10-20T22:06:14.711Z"
   },
   {
    "duration": 400,
    "start_time": "2022-10-20T22:06:14.878Z"
   },
   {
    "duration": 105,
    "start_time": "2022-10-20T22:06:15.280Z"
   },
   {
    "duration": 48,
    "start_time": "2022-10-22T12:35:13.835Z"
   },
   {
    "duration": 1617,
    "start_time": "2022-10-22T12:35:23.436Z"
   },
   {
    "duration": 13,
    "start_time": "2022-10-22T12:35:25.054Z"
   },
   {
    "duration": 19,
    "start_time": "2022-10-22T12:35:25.069Z"
   },
   {
    "duration": 16,
    "start_time": "2022-10-22T12:35:25.089Z"
   },
   {
    "duration": 9,
    "start_time": "2022-10-22T12:35:25.107Z"
   },
   {
    "duration": 11,
    "start_time": "2022-10-22T12:35:25.118Z"
   },
   {
    "duration": 9,
    "start_time": "2022-10-22T12:35:25.131Z"
   },
   {
    "duration": 10,
    "start_time": "2022-10-22T12:35:25.141Z"
   },
   {
    "duration": 69,
    "start_time": "2022-10-22T12:35:25.153Z"
   },
   {
    "duration": 8,
    "start_time": "2022-10-22T12:35:25.223Z"
   },
   {
    "duration": 22,
    "start_time": "2022-10-22T12:35:25.233Z"
   },
   {
    "duration": 8,
    "start_time": "2022-10-22T12:35:25.257Z"
   },
   {
    "duration": 15,
    "start_time": "2022-10-22T12:35:25.292Z"
   },
   {
    "duration": 6,
    "start_time": "2022-10-22T12:35:25.311Z"
   },
   {
    "duration": 12,
    "start_time": "2022-10-22T12:35:25.319Z"
   },
   {
    "duration": 22,
    "start_time": "2022-10-22T12:35:25.333Z"
   },
   {
    "duration": 67,
    "start_time": "2022-10-22T12:35:25.357Z"
   },
   {
    "duration": 181,
    "start_time": "2022-10-22T12:35:25.425Z"
   },
   {
    "duration": 15,
    "start_time": "2022-10-22T12:35:25.608Z"
   },
   {
    "duration": 310,
    "start_time": "2022-10-22T12:35:25.625Z"
   },
   {
    "duration": 5,
    "start_time": "2022-10-22T12:35:25.936Z"
   },
   {
    "duration": 292,
    "start_time": "2022-10-22T12:35:25.942Z"
   },
   {
    "duration": 173,
    "start_time": "2022-10-22T12:35:26.236Z"
   },
   {
    "duration": 523,
    "start_time": "2022-10-22T12:35:26.410Z"
   },
   {
    "duration": 8,
    "start_time": "2022-10-22T12:35:26.935Z"
   },
   {
    "duration": 132,
    "start_time": "2022-10-22T12:35:26.944Z"
   },
   {
    "duration": 16,
    "start_time": "2022-10-22T12:35:57.020Z"
   },
   {
    "duration": 25,
    "start_time": "2022-10-22T12:39:41.147Z"
   },
   {
    "duration": 23,
    "start_time": "2022-10-22T12:40:20.238Z"
   },
   {
    "duration": 12,
    "start_time": "2022-10-22T12:41:36.302Z"
   },
   {
    "duration": 16,
    "start_time": "2022-10-22T12:41:44.468Z"
   },
   {
    "duration": 18,
    "start_time": "2022-10-22T12:42:17.764Z"
   },
   {
    "duration": 117,
    "start_time": "2022-10-22T12:43:46.138Z"
   },
   {
    "duration": 14,
    "start_time": "2022-10-22T12:45:04.474Z"
   },
   {
    "duration": 238,
    "start_time": "2022-10-22T12:45:18.006Z"
   },
   {
    "duration": 174,
    "start_time": "2022-10-22T12:45:25.532Z"
   },
   {
    "duration": 138,
    "start_time": "2022-10-22T12:45:35.971Z"
   },
   {
    "duration": 139,
    "start_time": "2022-10-22T12:45:43.270Z"
   },
   {
    "duration": 134,
    "start_time": "2022-10-22T12:47:13.437Z"
   },
   {
    "duration": 141,
    "start_time": "2022-10-22T12:47:30.385Z"
   },
   {
    "duration": 138,
    "start_time": "2022-10-22T12:47:35.623Z"
   },
   {
    "duration": 135,
    "start_time": "2022-10-22T12:47:41.167Z"
   },
   {
    "duration": 145,
    "start_time": "2022-10-22T12:47:49.309Z"
   },
   {
    "duration": 6,
    "start_time": "2022-10-22T12:52:53.335Z"
   },
   {
    "duration": 14,
    "start_time": "2022-10-22T12:53:09.545Z"
   },
   {
    "duration": 31,
    "start_time": "2022-10-22T12:56:06.098Z"
   },
   {
    "duration": 35,
    "start_time": "2022-10-22T12:57:20.971Z"
   },
   {
    "duration": 21,
    "start_time": "2022-10-22T12:57:26.546Z"
   },
   {
    "duration": 17,
    "start_time": "2022-10-22T12:57:57.581Z"
   },
   {
    "duration": 36,
    "start_time": "2022-10-22T13:00:32.946Z"
   },
   {
    "duration": 34,
    "start_time": "2022-10-22T13:01:06.065Z"
   },
   {
    "duration": 13,
    "start_time": "2022-10-22T13:01:31.034Z"
   },
   {
    "duration": 12,
    "start_time": "2022-10-22T13:01:50.972Z"
   },
   {
    "duration": 18,
    "start_time": "2022-10-22T13:01:56.528Z"
   },
   {
    "duration": 15,
    "start_time": "2022-10-22T13:02:18.630Z"
   },
   {
    "duration": 19,
    "start_time": "2022-10-22T13:02:25.221Z"
   },
   {
    "duration": 34,
    "start_time": "2022-10-22T13:02:31.216Z"
   },
   {
    "duration": 8,
    "start_time": "2022-10-22T13:16:09.555Z"
   },
   {
    "duration": 12,
    "start_time": "2022-10-22T13:19:24.803Z"
   },
   {
    "duration": 9,
    "start_time": "2022-10-22T13:19:38.113Z"
   },
   {
    "duration": 10,
    "start_time": "2022-10-22T13:21:28.139Z"
   },
   {
    "duration": 1368,
    "start_time": "2022-10-22T13:25:40.288Z"
   },
   {
    "duration": 167,
    "start_time": "2022-10-22T13:25:49.928Z"
   },
   {
    "duration": 184,
    "start_time": "2022-10-22T13:26:08.046Z"
   },
   {
    "duration": 169,
    "start_time": "2022-10-22T13:26:45.894Z"
   },
   {
    "duration": 260,
    "start_time": "2022-10-22T13:26:57.691Z"
   },
   {
    "duration": 4,
    "start_time": "2022-10-22T13:27:24.173Z"
   },
   {
    "duration": 89,
    "start_time": "2022-10-22T13:27:36.053Z"
   },
   {
    "duration": 166,
    "start_time": "2022-10-22T13:27:40.597Z"
   },
   {
    "duration": 175,
    "start_time": "2022-10-22T13:28:04.584Z"
   },
   {
    "duration": 163,
    "start_time": "2022-10-22T13:28:19.781Z"
   },
   {
    "duration": 158,
    "start_time": "2022-10-22T13:28:53.463Z"
   },
   {
    "duration": 166,
    "start_time": "2022-10-22T13:29:11.980Z"
   },
   {
    "duration": 162,
    "start_time": "2022-10-22T13:29:17.496Z"
   },
   {
    "duration": 154,
    "start_time": "2022-10-22T13:29:49.184Z"
   },
   {
    "duration": 162,
    "start_time": "2022-10-22T13:30:24.005Z"
   },
   {
    "duration": 166,
    "start_time": "2022-10-22T13:30:30.359Z"
   },
   {
    "duration": 285,
    "start_time": "2022-10-22T13:35:59.743Z"
   },
   {
    "duration": 161,
    "start_time": "2022-10-22T13:36:08.419Z"
   },
   {
    "duration": 217,
    "start_time": "2022-10-22T13:50:49.220Z"
   },
   {
    "duration": 213,
    "start_time": "2022-10-22T13:51:12.965Z"
   },
   {
    "duration": 321,
    "start_time": "2022-10-22T13:51:18.533Z"
   },
   {
    "duration": 3,
    "start_time": "2022-10-22T14:08:32.685Z"
   },
   {
    "duration": 234,
    "start_time": "2022-10-22T14:10:17.381Z"
   },
   {
    "duration": 222,
    "start_time": "2022-10-22T14:11:32.777Z"
   },
   {
    "duration": 11,
    "start_time": "2022-10-22T14:12:34.629Z"
   },
   {
    "duration": 10,
    "start_time": "2022-10-22T14:12:52.222Z"
   },
   {
    "duration": 16,
    "start_time": "2022-10-22T14:13:03.536Z"
   },
   {
    "duration": 336,
    "start_time": "2022-10-22T14:13:17.506Z"
   },
   {
    "duration": 155,
    "start_time": "2022-10-22T14:13:38.176Z"
   },
   {
    "duration": 415,
    "start_time": "2022-10-22T14:14:08.165Z"
   },
   {
    "duration": 449,
    "start_time": "2022-10-22T14:15:45.861Z"
   },
   {
    "duration": 717,
    "start_time": "2022-10-22T14:22:26.755Z"
   },
   {
    "duration": 292,
    "start_time": "2022-10-22T14:22:57.156Z"
   },
   {
    "duration": 328,
    "start_time": "2022-10-22T14:23:40.941Z"
   },
   {
    "duration": 319,
    "start_time": "2022-10-22T14:41:35.616Z"
   },
   {
    "duration": 351,
    "start_time": "2022-10-22T14:45:31.192Z"
   },
   {
    "duration": 15,
    "start_time": "2022-10-22T15:14:19.236Z"
   },
   {
    "duration": 184,
    "start_time": "2022-10-22T15:15:20.325Z"
   },
   {
    "duration": 11,
    "start_time": "2022-10-22T15:15:31.917Z"
   },
   {
    "duration": 11,
    "start_time": "2022-10-22T15:16:01.884Z"
   },
   {
    "duration": 10,
    "start_time": "2022-10-22T15:17:19.649Z"
   },
   {
    "duration": 10,
    "start_time": "2022-10-22T15:18:44.888Z"
   },
   {
    "duration": 71,
    "start_time": "2022-10-22T15:22:07.172Z"
   },
   {
    "duration": 11,
    "start_time": "2022-10-22T15:22:18.773Z"
   },
   {
    "duration": 6,
    "start_time": "2022-10-22T15:23:03.991Z"
   },
   {
    "duration": 5,
    "start_time": "2022-10-22T15:25:12.909Z"
   },
   {
    "duration": 11,
    "start_time": "2022-10-22T15:26:05.977Z"
   },
   {
    "duration": 7,
    "start_time": "2022-10-22T15:26:19.240Z"
   },
   {
    "duration": 4,
    "start_time": "2022-10-22T15:33:35.197Z"
   },
   {
    "duration": 4,
    "start_time": "2022-10-22T15:33:48.783Z"
   },
   {
    "duration": 15,
    "start_time": "2022-10-22T15:38:34.430Z"
   },
   {
    "duration": 6,
    "start_time": "2022-10-22T15:39:08.060Z"
   },
   {
    "duration": 11,
    "start_time": "2022-10-22T15:40:46.306Z"
   },
   {
    "duration": 6,
    "start_time": "2022-10-22T15:41:01.126Z"
   },
   {
    "duration": 5,
    "start_time": "2022-10-22T15:52:13.456Z"
   },
   {
    "duration": 5,
    "start_time": "2022-10-22T15:52:27.627Z"
   },
   {
    "duration": 46,
    "start_time": "2022-10-23T09:26:04.608Z"
   },
   {
    "duration": 1471,
    "start_time": "2022-10-23T09:26:12.586Z"
   },
   {
    "duration": 13,
    "start_time": "2022-10-23T09:26:14.059Z"
   },
   {
    "duration": 21,
    "start_time": "2022-10-23T09:26:14.073Z"
   },
   {
    "duration": 19,
    "start_time": "2022-10-23T09:26:14.096Z"
   },
   {
    "duration": 8,
    "start_time": "2022-10-23T09:26:14.116Z"
   },
   {
    "duration": 10,
    "start_time": "2022-10-23T09:26:14.125Z"
   },
   {
    "duration": 8,
    "start_time": "2022-10-23T09:26:14.137Z"
   },
   {
    "duration": 8,
    "start_time": "2022-10-23T09:26:14.146Z"
   },
   {
    "duration": 58,
    "start_time": "2022-10-23T09:26:14.155Z"
   },
   {
    "duration": 6,
    "start_time": "2022-10-23T09:26:14.215Z"
   },
   {
    "duration": 25,
    "start_time": "2022-10-23T09:26:14.222Z"
   },
   {
    "duration": 6,
    "start_time": "2022-10-23T09:26:14.248Z"
   },
   {
    "duration": 37,
    "start_time": "2022-10-23T09:26:14.256Z"
   },
   {
    "duration": 5,
    "start_time": "2022-10-23T09:26:14.294Z"
   },
   {
    "duration": 13,
    "start_time": "2022-10-23T09:26:14.301Z"
   },
   {
    "duration": 17,
    "start_time": "2022-10-23T09:26:14.315Z"
   },
   {
    "duration": 56,
    "start_time": "2022-10-23T09:26:14.334Z"
   },
   {
    "duration": 157,
    "start_time": "2022-10-23T09:26:14.392Z"
   },
   {
    "duration": 14,
    "start_time": "2022-10-23T09:26:14.550Z"
   },
   {
    "duration": 289,
    "start_time": "2022-10-23T09:26:14.565Z"
   },
   {
    "duration": 4,
    "start_time": "2022-10-23T09:26:14.856Z"
   },
   {
    "duration": 276,
    "start_time": "2022-10-23T09:26:14.862Z"
   },
   {
    "duration": 175,
    "start_time": "2022-10-23T09:26:15.140Z"
   },
   {
    "duration": 438,
    "start_time": "2022-10-23T09:26:15.317Z"
   },
   {
    "duration": 29,
    "start_time": "2022-10-23T09:26:15.758Z"
   },
   {
    "duration": 19,
    "start_time": "2022-10-23T09:26:15.789Z"
   },
   {
    "duration": 145,
    "start_time": "2022-10-23T09:26:15.810Z"
   },
   {
    "duration": 107,
    "start_time": "2022-10-23T09:26:15.958Z"
   },
   {
    "duration": 38,
    "start_time": "2022-10-23T09:26:16.066Z"
   },
   {
    "duration": 7,
    "start_time": "2022-10-23T09:26:16.105Z"
   },
   {
    "duration": 16,
    "start_time": "2022-10-23T09:26:16.113Z"
   },
   {
    "duration": 140,
    "start_time": "2022-10-23T09:26:16.130Z"
   },
   {
    "duration": 137,
    "start_time": "2022-10-23T09:26:16.272Z"
   },
   {
    "duration": 11,
    "start_time": "2022-10-23T09:26:16.411Z"
   },
   {
    "duration": 154,
    "start_time": "2022-10-23T09:26:16.423Z"
   },
   {
    "duration": 135,
    "start_time": "2022-10-23T09:26:16.579Z"
   },
   {
    "duration": 187,
    "start_time": "2022-10-23T09:26:16.715Z"
   },
   {
    "duration": 6,
    "start_time": "2022-10-23T09:26:16.904Z"
   },
   {
    "duration": 362,
    "start_time": "2022-10-23T09:26:16.912Z"
   },
   {
    "duration": 342,
    "start_time": "2022-10-23T09:26:17.275Z"
   },
   {
    "duration": 310,
    "start_time": "2022-10-23T09:26:17.619Z"
   },
   {
    "duration": 12,
    "start_time": "2022-10-23T09:26:17.931Z"
   },
   {
    "duration": 9,
    "start_time": "2022-10-23T09:26:17.944Z"
   },
   {
    "duration": 6,
    "start_time": "2022-10-23T09:26:17.954Z"
   },
   {
    "duration": 26,
    "start_time": "2022-10-23T09:26:17.962Z"
   },
   {
    "duration": 22,
    "start_time": "2022-10-23T09:26:17.990Z"
   },
   {
    "duration": 6,
    "start_time": "2022-10-23T09:26:18.014Z"
   },
   {
    "duration": 7,
    "start_time": "2022-10-23T09:26:18.021Z"
   },
   {
    "duration": 6,
    "start_time": "2022-10-23T09:26:18.030Z"
   },
   {
    "duration": 1640,
    "start_time": "2022-10-23T10:23:19.899Z"
   },
   {
    "duration": 13,
    "start_time": "2022-10-23T10:23:26.368Z"
   },
   {
    "duration": 22,
    "start_time": "2022-10-23T10:23:29.799Z"
   },
   {
    "duration": 29,
    "start_time": "2022-10-23T10:24:29.790Z"
   },
   {
    "duration": 17,
    "start_time": "2022-10-23T10:27:16.714Z"
   },
   {
    "duration": 7,
    "start_time": "2022-10-23T10:27:26.174Z"
   },
   {
    "duration": 13,
    "start_time": "2022-10-23T10:27:29.211Z"
   },
   {
    "duration": 70,
    "start_time": "2022-10-23T10:39:57.076Z"
   },
   {
    "duration": 114,
    "start_time": "2022-10-23T10:40:01.251Z"
   },
   {
    "duration": 66,
    "start_time": "2022-10-23T10:40:07.663Z"
   },
   {
    "duration": 13,
    "start_time": "2022-10-23T10:40:08.420Z"
   },
   {
    "duration": 21,
    "start_time": "2022-10-23T10:40:09.499Z"
   },
   {
    "duration": 18,
    "start_time": "2022-10-23T10:40:10.192Z"
   },
   {
    "duration": 9,
    "start_time": "2022-10-23T10:40:10.945Z"
   },
   {
    "duration": 13,
    "start_time": "2022-10-23T10:40:11.671Z"
   },
   {
    "duration": 9,
    "start_time": "2022-10-23T10:40:12.413Z"
   },
   {
    "duration": 9,
    "start_time": "2022-10-23T10:40:13.160Z"
   },
   {
    "duration": 32,
    "start_time": "2022-10-23T10:40:13.952Z"
   },
   {
    "duration": 6,
    "start_time": "2022-10-23T10:40:15.191Z"
   },
   {
    "duration": 24,
    "start_time": "2022-10-23T10:40:15.578Z"
   },
   {
    "duration": 8,
    "start_time": "2022-10-23T10:40:16.083Z"
   },
   {
    "duration": 14,
    "start_time": "2022-10-23T10:40:17.114Z"
   },
   {
    "duration": 8,
    "start_time": "2022-10-23T10:40:17.552Z"
   },
   {
    "duration": 11,
    "start_time": "2022-10-23T10:40:19.549Z"
   },
   {
    "duration": 7,
    "start_time": "2022-10-23T10:41:52.829Z"
   },
   {
    "duration": 17,
    "start_time": "2022-10-23T10:41:56.670Z"
   },
   {
    "duration": 6,
    "start_time": "2022-10-23T10:43:38.268Z"
   },
   {
    "duration": 10,
    "start_time": "2022-10-23T10:43:39.631Z"
   },
   {
    "duration": 19,
    "start_time": "2022-10-23T10:43:55.141Z"
   },
   {
    "duration": 33,
    "start_time": "2022-10-23T10:43:58.082Z"
   },
   {
    "duration": 1224,
    "start_time": "2022-10-23T10:45:00.503Z"
   },
   {
    "duration": 14,
    "start_time": "2022-10-23T10:45:01.729Z"
   },
   {
    "duration": 21,
    "start_time": "2022-10-23T10:45:01.888Z"
   },
   {
    "duration": 16,
    "start_time": "2022-10-23T10:45:02.423Z"
   },
   {
    "duration": 9,
    "start_time": "2022-10-23T10:45:03.030Z"
   },
   {
    "duration": 13,
    "start_time": "2022-10-23T10:45:03.758Z"
   },
   {
    "duration": 8,
    "start_time": "2022-10-23T10:45:04.525Z"
   },
   {
    "duration": 9,
    "start_time": "2022-10-23T10:45:05.161Z"
   },
   {
    "duration": 33,
    "start_time": "2022-10-23T10:45:05.841Z"
   },
   {
    "duration": 6,
    "start_time": "2022-10-23T10:45:07.527Z"
   },
   {
    "duration": 22,
    "start_time": "2022-10-23T10:45:08.037Z"
   },
   {
    "duration": 7,
    "start_time": "2022-10-23T10:45:08.600Z"
   },
   {
    "duration": 16,
    "start_time": "2022-10-23T10:45:10.356Z"
   },
   {
    "duration": 3,
    "start_time": "2022-10-23T10:45:19.362Z"
   },
   {
    "duration": 12,
    "start_time": "2022-10-23T10:45:20.176Z"
   },
   {
    "duration": 6,
    "start_time": "2022-10-23T10:45:25.984Z"
   },
   {
    "duration": 12,
    "start_time": "2022-10-23T10:45:27.178Z"
   },
   {
    "duration": 48,
    "start_time": "2022-10-23T11:05:21.875Z"
   },
   {
    "duration": 1189,
    "start_time": "2022-10-23T11:05:29.848Z"
   },
   {
    "duration": 15,
    "start_time": "2022-10-23T11:05:31.039Z"
   },
   {
    "duration": 24,
    "start_time": "2022-10-23T11:05:31.055Z"
   },
   {
    "duration": 16,
    "start_time": "2022-10-23T11:05:31.094Z"
   },
   {
    "duration": 10,
    "start_time": "2022-10-23T11:05:31.391Z"
   },
   {
    "duration": 12,
    "start_time": "2022-10-23T11:05:31.747Z"
   },
   {
    "duration": 10,
    "start_time": "2022-10-23T11:05:32.068Z"
   },
   {
    "duration": 10,
    "start_time": "2022-10-23T11:05:32.413Z"
   },
   {
    "duration": 32,
    "start_time": "2022-10-23T11:05:32.733Z"
   },
   {
    "duration": 8,
    "start_time": "2022-10-23T11:05:33.245Z"
   },
   {
    "duration": 23,
    "start_time": "2022-10-23T11:05:33.414Z"
   },
   {
    "duration": 8,
    "start_time": "2022-10-23T11:05:33.589Z"
   },
   {
    "duration": 14,
    "start_time": "2022-10-23T11:05:33.982Z"
   },
   {
    "duration": 2,
    "start_time": "2022-10-23T11:05:54.394Z"
   },
   {
    "duration": 13,
    "start_time": "2022-10-23T11:05:55.415Z"
   },
   {
    "duration": 21,
    "start_time": "2022-10-23T11:09:08.172Z"
   },
   {
    "duration": 3,
    "start_time": "2022-10-23T11:09:51.494Z"
   },
   {
    "duration": 13,
    "start_time": "2022-10-23T11:09:51.906Z"
   },
   {
    "duration": 7,
    "start_time": "2022-10-23T11:09:52.392Z"
   },
   {
    "duration": 11,
    "start_time": "2022-10-23T11:09:53.611Z"
   },
   {
    "duration": 29,
    "start_time": "2022-10-23T11:09:54.896Z"
   },
   {
    "duration": 28,
    "start_time": "2022-10-23T11:09:56.468Z"
   },
   {
    "duration": 59,
    "start_time": "2022-10-23T20:32:44.092Z"
   },
   {
    "duration": 45,
    "start_time": "2022-10-23T20:33:03.211Z"
   },
   {
    "duration": 42,
    "start_time": "2022-10-23T20:33:32.005Z"
   },
   {
    "duration": 43,
    "start_time": "2022-10-23T20:34:49.262Z"
   },
   {
    "duration": 40,
    "start_time": "2022-10-23T20:36:57.452Z"
   },
   {
    "duration": 1315,
    "start_time": "2022-10-23T20:37:10.051Z"
   },
   {
    "duration": 13,
    "start_time": "2022-10-23T20:37:11.367Z"
   },
   {
    "duration": 18,
    "start_time": "2022-10-23T20:37:11.382Z"
   },
   {
    "duration": 27,
    "start_time": "2022-10-23T20:37:11.402Z"
   },
   {
    "duration": 8,
    "start_time": "2022-10-23T20:37:11.431Z"
   },
   {
    "duration": 12,
    "start_time": "2022-10-23T20:37:11.440Z"
   },
   {
    "duration": 8,
    "start_time": "2022-10-23T20:37:11.454Z"
   },
   {
    "duration": 10,
    "start_time": "2022-10-23T20:37:11.465Z"
   },
   {
    "duration": 54,
    "start_time": "2022-10-23T20:37:11.476Z"
   },
   {
    "duration": 6,
    "start_time": "2022-10-23T20:37:11.533Z"
   },
   {
    "duration": 25,
    "start_time": "2022-10-23T20:37:11.541Z"
   },
   {
    "duration": 6,
    "start_time": "2022-10-23T20:37:11.568Z"
   },
   {
    "duration": 4,
    "start_time": "2022-10-23T20:37:11.576Z"
   },
   {
    "duration": 40,
    "start_time": "2022-10-23T20:37:11.581Z"
   },
   {
    "duration": 7,
    "start_time": "2022-10-23T20:37:11.623Z"
   },
   {
    "duration": 18,
    "start_time": "2022-10-23T20:37:11.632Z"
   },
   {
    "duration": 20,
    "start_time": "2022-10-23T20:37:11.652Z"
   },
   {
    "duration": 23,
    "start_time": "2022-10-23T20:37:11.673Z"
   },
   {
    "duration": 105,
    "start_time": "2022-10-23T20:37:11.720Z"
   },
   {
    "duration": 0,
    "start_time": "2022-10-23T20:37:11.828Z"
   },
   {
    "duration": 0,
    "start_time": "2022-10-23T20:37:11.829Z"
   },
   {
    "duration": 0,
    "start_time": "2022-10-23T20:37:11.830Z"
   },
   {
    "duration": 0,
    "start_time": "2022-10-23T20:37:11.834Z"
   },
   {
    "duration": 0,
    "start_time": "2022-10-23T20:37:11.835Z"
   },
   {
    "duration": 0,
    "start_time": "2022-10-23T20:37:11.837Z"
   },
   {
    "duration": 1,
    "start_time": "2022-10-23T20:37:11.837Z"
   },
   {
    "duration": 0,
    "start_time": "2022-10-23T20:37:11.839Z"
   },
   {
    "duration": 0,
    "start_time": "2022-10-23T20:37:11.840Z"
   },
   {
    "duration": 0,
    "start_time": "2022-10-23T20:37:11.841Z"
   },
   {
    "duration": 0,
    "start_time": "2022-10-23T20:37:11.842Z"
   },
   {
    "duration": 0,
    "start_time": "2022-10-23T20:37:11.843Z"
   },
   {
    "duration": 0,
    "start_time": "2022-10-23T20:37:11.844Z"
   },
   {
    "duration": 0,
    "start_time": "2022-10-23T20:37:11.854Z"
   },
   {
    "duration": 0,
    "start_time": "2022-10-23T20:37:11.855Z"
   },
   {
    "duration": 0,
    "start_time": "2022-10-23T20:37:11.857Z"
   },
   {
    "duration": 0,
    "start_time": "2022-10-23T20:37:11.858Z"
   },
   {
    "duration": 0,
    "start_time": "2022-10-23T20:37:11.860Z"
   },
   {
    "duration": 0,
    "start_time": "2022-10-23T20:37:11.861Z"
   },
   {
    "duration": 0,
    "start_time": "2022-10-23T20:37:11.863Z"
   },
   {
    "duration": 0,
    "start_time": "2022-10-23T20:37:11.864Z"
   },
   {
    "duration": 0,
    "start_time": "2022-10-23T20:37:11.865Z"
   },
   {
    "duration": 0,
    "start_time": "2022-10-23T20:37:11.867Z"
   },
   {
    "duration": 0,
    "start_time": "2022-10-23T20:37:11.868Z"
   },
   {
    "duration": 0,
    "start_time": "2022-10-23T20:37:11.870Z"
   },
   {
    "duration": 0,
    "start_time": "2022-10-23T20:37:11.871Z"
   },
   {
    "duration": 0,
    "start_time": "2022-10-23T20:37:11.921Z"
   },
   {
    "duration": 0,
    "start_time": "2022-10-23T20:37:11.922Z"
   },
   {
    "duration": 0,
    "start_time": "2022-10-23T20:37:11.923Z"
   },
   {
    "duration": 0,
    "start_time": "2022-10-23T20:37:11.923Z"
   },
   {
    "duration": 0,
    "start_time": "2022-10-23T20:37:11.924Z"
   },
   {
    "duration": 152,
    "start_time": "2022-10-23T20:38:33.004Z"
   },
   {
    "duration": 47,
    "start_time": "2022-10-23T20:38:41.883Z"
   },
   {
    "duration": 10,
    "start_time": "2022-10-23T20:39:21.925Z"
   },
   {
    "duration": 9,
    "start_time": "2022-10-23T20:39:37.343Z"
   },
   {
    "duration": 8,
    "start_time": "2022-10-23T20:39:45.034Z"
   },
   {
    "duration": 14,
    "start_time": "2022-10-23T20:39:47.000Z"
   },
   {
    "duration": 266,
    "start_time": "2022-10-23T20:39:51.046Z"
   },
   {
    "duration": 5,
    "start_time": "2022-10-23T20:39:57.774Z"
   },
   {
    "duration": 262,
    "start_time": "2022-10-23T20:40:01.924Z"
   },
   {
    "duration": 264,
    "start_time": "2022-10-23T20:40:55.169Z"
   },
   {
    "duration": 262,
    "start_time": "2022-10-23T20:41:44.220Z"
   },
   {
    "duration": 256,
    "start_time": "2022-10-23T20:43:29.867Z"
   },
   {
    "duration": 249,
    "start_time": "2022-10-23T20:43:40.100Z"
   },
   {
    "duration": 333,
    "start_time": "2022-10-23T20:43:49.741Z"
   },
   {
    "duration": 46,
    "start_time": "2022-10-23T20:44:01.536Z"
   },
   {
    "duration": 193,
    "start_time": "2022-10-23T20:45:08.943Z"
   },
   {
    "duration": 188,
    "start_time": "2022-10-23T20:46:10.443Z"
   },
   {
    "duration": 386,
    "start_time": "2022-10-23T20:46:25.547Z"
   },
   {
    "duration": 399,
    "start_time": "2022-10-23T20:47:26.252Z"
   },
   {
    "duration": 19,
    "start_time": "2022-10-23T20:47:30.407Z"
   },
   {
    "duration": 116,
    "start_time": "2022-10-23T20:47:34.633Z"
   },
   {
    "duration": 105,
    "start_time": "2022-10-23T20:48:30.537Z"
   },
   {
    "duration": 116,
    "start_time": "2022-10-23T20:48:36.335Z"
   },
   {
    "duration": 121,
    "start_time": "2022-10-23T20:48:56.375Z"
   },
   {
    "duration": 213,
    "start_time": "2022-10-23T20:49:08.359Z"
   },
   {
    "duration": 31,
    "start_time": "2022-10-23T20:49:26.902Z"
   },
   {
    "duration": 30,
    "start_time": "2022-10-23T20:49:29.857Z"
   },
   {
    "duration": 7,
    "start_time": "2022-10-23T20:49:36.799Z"
   },
   {
    "duration": 8,
    "start_time": "2022-10-23T20:49:39.329Z"
   },
   {
    "duration": 142,
    "start_time": "2022-10-23T20:49:41.541Z"
   },
   {
    "duration": 123,
    "start_time": "2022-10-23T20:49:45.599Z"
   },
   {
    "duration": 10,
    "start_time": "2022-10-23T20:50:30.966Z"
   },
   {
    "duration": 131,
    "start_time": "2022-10-23T20:50:32.894Z"
   },
   {
    "duration": 127,
    "start_time": "2022-10-23T20:50:35.793Z"
   },
   {
    "duration": 138,
    "start_time": "2022-10-23T20:51:29.146Z"
   },
   {
    "duration": 124,
    "start_time": "2022-10-23T20:52:23.621Z"
   },
   {
    "duration": 134,
    "start_time": "2022-10-23T20:52:54.663Z"
   },
   {
    "duration": 128,
    "start_time": "2022-10-23T20:53:07.528Z"
   },
   {
    "duration": 49,
    "start_time": "2022-10-23T20:54:10.640Z"
   },
   {
    "duration": 37,
    "start_time": "2022-10-23T20:54:20.009Z"
   },
   {
    "duration": 135,
    "start_time": "2022-10-23T20:54:25.481Z"
   },
   {
    "duration": 126,
    "start_time": "2022-10-23T20:54:33.346Z"
   },
   {
    "duration": 130,
    "start_time": "2022-10-23T20:55:00.565Z"
   },
   {
    "duration": 127,
    "start_time": "2022-10-23T20:55:23.195Z"
   },
   {
    "duration": 144,
    "start_time": "2022-10-23T20:55:47.920Z"
   },
   {
    "duration": 9,
    "start_time": "2022-10-23T20:58:52.621Z"
   },
   {
    "duration": 10,
    "start_time": "2022-10-23T20:58:54.767Z"
   },
   {
    "duration": 145,
    "start_time": "2022-10-23T20:58:55.917Z"
   },
   {
    "duration": 248,
    "start_time": "2022-10-23T20:58:58.505Z"
   },
   {
    "duration": 10,
    "start_time": "2022-10-23T20:59:20.133Z"
   },
   {
    "duration": 10,
    "start_time": "2022-10-23T20:59:21.401Z"
   },
   {
    "duration": 149,
    "start_time": "2022-10-23T20:59:22.366Z"
   },
   {
    "duration": 159,
    "start_time": "2022-10-23T20:59:24.721Z"
   },
   {
    "duration": 10,
    "start_time": "2022-10-23T20:59:27.704Z"
   },
   {
    "duration": 154,
    "start_time": "2022-10-23T20:59:31.261Z"
   },
   {
    "duration": 147,
    "start_time": "2022-10-23T20:59:34.107Z"
   },
   {
    "duration": 82,
    "start_time": "2022-10-23T21:00:29.824Z"
   },
   {
    "duration": 77,
    "start_time": "2022-10-23T21:01:00.943Z"
   },
   {
    "duration": 39,
    "start_time": "2022-10-23T21:01:22.362Z"
   },
   {
    "duration": 57,
    "start_time": "2022-10-23T21:01:27.996Z"
   },
   {
    "duration": 10,
    "start_time": "2022-10-23T21:01:41.163Z"
   },
   {
    "duration": 9,
    "start_time": "2022-10-23T21:01:43.734Z"
   },
   {
    "duration": 143,
    "start_time": "2022-10-23T21:01:44.307Z"
   },
   {
    "duration": 149,
    "start_time": "2022-10-23T21:01:44.951Z"
   },
   {
    "duration": 10,
    "start_time": "2022-10-23T21:01:46.207Z"
   },
   {
    "duration": 143,
    "start_time": "2022-10-23T21:01:46.793Z"
   },
   {
    "duration": 154,
    "start_time": "2022-10-23T21:01:47.421Z"
   },
   {
    "duration": 177,
    "start_time": "2022-10-23T21:03:47.359Z"
   },
   {
    "duration": 190,
    "start_time": "2022-10-23T21:04:27.875Z"
   },
   {
    "duration": 186,
    "start_time": "2022-10-23T21:04:34.470Z"
   },
   {
    "duration": 3,
    "start_time": "2022-10-23T21:04:40.184Z"
   },
   {
    "duration": 405,
    "start_time": "2022-10-23T21:04:42.551Z"
   },
   {
    "duration": 40,
    "start_time": "2022-10-23T21:14:15.362Z"
   },
   {
    "duration": 42,
    "start_time": "2022-10-23T21:15:29.253Z"
   },
   {
    "duration": 108,
    "start_time": "2022-10-23T21:16:26.690Z"
   },
   {
    "duration": 47,
    "start_time": "2022-10-23T21:16:34.580Z"
   },
   {
    "duration": 23,
    "start_time": "2022-10-23T21:16:50.237Z"
   },
   {
    "duration": 308,
    "start_time": "2022-10-23T21:17:04.254Z"
   },
   {
    "duration": 45,
    "start_time": "2022-10-23T21:17:19.457Z"
   },
   {
    "duration": 66,
    "start_time": "2022-10-23T21:17:37.521Z"
   },
   {
    "duration": 46,
    "start_time": "2022-10-23T21:17:47.489Z"
   },
   {
    "duration": 52,
    "start_time": "2022-10-23T21:17:51.046Z"
   },
   {
    "duration": 196,
    "start_time": "2022-10-23T21:18:51.021Z"
   },
   {
    "duration": 292,
    "start_time": "2022-10-23T21:19:14.955Z"
   },
   {
    "duration": 9,
    "start_time": "2022-10-23T21:19:32.654Z"
   },
   {
    "duration": 52,
    "start_time": "2022-10-23T21:20:37.154Z"
   },
   {
    "duration": 192,
    "start_time": "2022-10-23T21:21:11.071Z"
   },
   {
    "duration": 39,
    "start_time": "2022-10-23T21:21:51.075Z"
   },
   {
    "duration": 202,
    "start_time": "2022-10-23T21:22:10.267Z"
   },
   {
    "duration": 206,
    "start_time": "2022-10-23T21:26:17.421Z"
   },
   {
    "duration": 21,
    "start_time": "2022-10-23T21:26:39.858Z"
   },
   {
    "duration": 287,
    "start_time": "2022-10-23T21:26:50.533Z"
   },
   {
    "duration": 581,
    "start_time": "2022-10-23T21:26:53.653Z"
   },
   {
    "duration": 43,
    "start_time": "2022-10-23T21:27:15.955Z"
   },
   {
    "duration": 67,
    "start_time": "2022-10-23T21:27:34.020Z"
   },
   {
    "duration": 65,
    "start_time": "2022-10-23T21:27:52.420Z"
   },
   {
    "duration": 4,
    "start_time": "2022-10-23T21:28:02.720Z"
   },
   {
    "duration": 2,
    "start_time": "2022-10-23T21:28:12.088Z"
   },
   {
    "duration": 5,
    "start_time": "2022-10-23T21:28:19.055Z"
   },
   {
    "duration": 836,
    "start_time": "2022-10-23T21:28:24.167Z"
   },
   {
    "duration": 205,
    "start_time": "2022-10-23T21:29:06.673Z"
   },
   {
    "duration": 20,
    "start_time": "2022-10-23T21:30:40.714Z"
   },
   {
    "duration": 288,
    "start_time": "2022-10-23T21:30:49.337Z"
   },
   {
    "duration": 50,
    "start_time": "2022-10-23T21:31:40.381Z"
   },
   {
    "duration": 312,
    "start_time": "2022-10-23T21:32:17.748Z"
   },
   {
    "duration": 10,
    "start_time": "2022-10-23T21:40:48.622Z"
   },
   {
    "duration": 49,
    "start_time": "2022-10-23T21:42:55.067Z"
   },
   {
    "duration": 29,
    "start_time": "2022-10-23T21:46:41.594Z"
   },
   {
    "duration": 5,
    "start_time": "2022-10-23T21:50:11.657Z"
   },
   {
    "duration": 4,
    "start_time": "2022-10-23T21:50:15.507Z"
   },
   {
    "duration": 4,
    "start_time": "2022-10-23T21:50:17.360Z"
   },
   {
    "duration": 10,
    "start_time": "2022-10-23T21:50:21.433Z"
   },
   {
    "duration": 5,
    "start_time": "2022-10-23T21:50:23.618Z"
   },
   {
    "duration": 4,
    "start_time": "2022-10-23T21:50:25.717Z"
   },
   {
    "duration": 5,
    "start_time": "2022-10-23T21:50:27.317Z"
   },
   {
    "duration": 66,
    "start_time": "2022-10-24T09:57:18.013Z"
   }
  ],
  "kernelspec": {
   "display_name": "Python 3 (ipykernel)",
   "language": "python",
   "name": "python3"
  },
  "language_info": {
   "codemirror_mode": {
    "name": "ipython",
    "version": 3
   },
   "file_extension": ".py",
   "mimetype": "text/x-python",
   "name": "python",
   "nbconvert_exporter": "python",
   "pygments_lexer": "ipython3",
   "version": "3.9.5"
  },
  "toc": {
   "base_numbering": 1,
   "nav_menu": {},
   "number_sections": true,
   "sideBar": true,
   "skip_h1_title": true,
   "title_cell": "Table of Contents",
   "title_sidebar": "Contents",
   "toc_cell": false,
   "toc_position": {},
   "toc_section_display": true,
   "toc_window_display": false
  }
 },
 "nbformat": 4,
 "nbformat_minor": 2
}
